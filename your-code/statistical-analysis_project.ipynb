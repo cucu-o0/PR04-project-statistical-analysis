{
 "cells": [
  {
   "cell_type": "markdown",
   "metadata": {},
   "source": [
    "# Dogs Adoption Predictor"
   ]
  },
  {
   "cell_type": "markdown",
   "metadata": {},
   "source": [
    "The goal of the project is to analyse what it would be the **best home** for a **dog adopted** from the kennel of Barcelona, based on statistical analysis of the place where it'll go to live(square mts) and the area the property is located."
   ]
  },
  {
   "cell_type": "markdown",
   "metadata": {},
   "source": [
    "## Analysis planning"
   ]
  },
  {
   "cell_type": "markdown",
   "metadata": {},
   "source": [
    "1. **Probabilistical analysis** --> **Dog features**\n",
    "\n",
    "    Finding the **characteristics** of the **dogs available** for **adoption**"
   ]
  },
  {
   "cell_type": "markdown",
   "metadata": {},
   "source": [
    "2. **Statistical analysis** --> **Houses and Parks** \n",
    "\n",
    "    Finding the **best place** for a dog where to live, based on: \n",
    "    \n",
    "    - **age** and **size** of the dogs.\n",
    "    - **size** and **position** of the house (mqs + presence of parks)."
   ]
  },
  {
   "cell_type": "markdown",
   "metadata": {},
   "source": [
    "## 0.Import libraries"
   ]
  },
  {
   "cell_type": "code",
   "execution_count": 1,
   "metadata": {},
   "outputs": [],
   "source": [
    "# Basic libraries\n",
    "import pandas as pd\n",
    "import numpy as np\n",
    "import re\n",
    "import datetime\n",
    "\n",
    "# Visualization tools\n",
    "import seaborn as sns\n",
    "import matplotlib.pyplot as plt\n",
    "plt.rc('image', cmap='bwr')\n",
    "%matplotlib inline\n",
    "\n",
    "# Statistical analysis libraries\n",
    "import math\n",
    "import scipy.stats as stats\n",
    "from scipy.stats import normaltest\n",
    "\n",
    "from ipywidgets import interact, interactive, fixed,interact_manual\n",
    "import ipywidgets as widgets\n",
    "\n",
    "# Options for DataFrame visualization:\n",
    "pd.set_option('display.width', 1000)\n",
    "pd.set_option('display.max_columns', 40)\n",
    "# Option to show not truncated cells in pandas\n",
    "pd.set_option('display.max_colwidth', -1)"
   ]
  },
  {
   "cell_type": "code",
   "execution_count": 2,
   "metadata": {},
   "outputs": [],
   "source": [
    "# pip install RISE"
   ]
  },
  {
   "cell_type": "markdown",
   "metadata": {},
   "source": [
    "# Probabilistic and Statistical Analysis"
   ]
  },
  {
   "cell_type": "markdown",
   "metadata": {},
   "source": [
    "## 1. Probabilistic Analysis (Dogs' DF)"
   ]
  },
  {
   "cell_type": "markdown",
   "metadata": {},
   "source": [
    "## 1.1 Dogs"
   ]
  },
  {
   "cell_type": "code",
   "execution_count": 3,
   "metadata": {},
   "outputs": [],
   "source": [
    "# Share data between Jupyter Notebooks\n",
    "%store -r dogs"
   ]
  },
  {
   "cell_type": "code",
   "execution_count": 4,
   "metadata": {},
   "outputs": [
    {
     "data": {
      "text/plain": [
       "'dogs 03-10-2020_02-06.csv'"
      ]
     },
     "execution_count": 4,
     "metadata": {},
     "output_type": "execute_result"
    }
   ],
   "source": [
    "dogs"
   ]
  },
  {
   "cell_type": "code",
   "execution_count": 5,
   "metadata": {},
   "outputs": [],
   "source": [
    "stats_dogs = pd.read_csv('output-data cleaning/'+dogs)"
   ]
  },
  {
   "cell_type": "code",
   "execution_count": 6,
   "metadata": {},
   "outputs": [
    {
     "data": {
      "text/html": [
       "<div>\n",
       "<style scoped>\n",
       "    .dataframe tbody tr th:only-of-type {\n",
       "        vertical-align: middle;\n",
       "    }\n",
       "\n",
       "    .dataframe tbody tr th {\n",
       "        vertical-align: top;\n",
       "    }\n",
       "\n",
       "    .dataframe thead th {\n",
       "        text-align: right;\n",
       "    }\n",
       "</style>\n",
       "<table border=\"1\" class=\"dataframe\">\n",
       "  <thead>\n",
       "    <tr style=\"text-align: right;\">\n",
       "      <th></th>\n",
       "      <th>Nombre</th>\n",
       "      <th>Caracteristicas</th>\n",
       "      <th>Sexo</th>\n",
       "      <th>Medidas</th>\n",
       "      <th>Edad</th>\n",
       "      <th>Color</th>\n",
       "      <th>Raza</th>\n",
       "      <th>Nacimiento</th>\n",
       "      <th>Entrada</th>\n",
       "      <th>Años perrera</th>\n",
       "      <th>Estado</th>\n",
       "      <th>Actividad</th>\n",
       "      <th>Compañia</th>\n",
       "      <th>Caracter</th>\n",
       "    </tr>\n",
       "  </thead>\n",
       "  <tbody>\n",
       "    <tr>\n",
       "      <td>0</td>\n",
       "      <td>Gina</td>\n",
       "      <td>Curiosa y elegante</td>\n",
       "      <td>Hembra</td>\n",
       "      <td>Grande</td>\n",
       "      <td>Adulto</td>\n",
       "      <td>Blanco</td>\n",
       "      <td>Mestizo</td>\n",
       "      <td>2010</td>\n",
       "      <td>02/2014</td>\n",
       "      <td>4.1 years</td>\n",
       "      <td>En Adopción</td>\n",
       "      <td>Actividad Normal</td>\n",
       "      <td>Compañia</td>\n",
       "      <td>Cariñoso</td>\n",
       "    </tr>\n",
       "    <tr>\n",
       "      <td>1</td>\n",
       "      <td>Horus</td>\n",
       "      <td>Una familia con dedicación</td>\n",
       "      <td>Macho</td>\n",
       "      <td>Grande</td>\n",
       "      <td>Joven</td>\n",
       "      <td>Marron oscuro</td>\n",
       "      <td>Mestizo de Pastor Alemán</td>\n",
       "      <td>03/2016</td>\n",
       "      <td>09/2017</td>\n",
       "      <td>1.5 years</td>\n",
       "      <td>En Adopción</td>\n",
       "      <td>Actividad Normal</td>\n",
       "      <td>Compañia</td>\n",
       "      <td>Difícil</td>\n",
       "    </tr>\n",
       "    <tr>\n",
       "      <td>2</td>\n",
       "      <td>Muñeca</td>\n",
       "      <td>Preparada para volver a empezar</td>\n",
       "      <td>Hembra</td>\n",
       "      <td>Mediano</td>\n",
       "      <td>Adulto</td>\n",
       "      <td>Negro</td>\n",
       "      <td>Mestizo</td>\n",
       "      <td>02/2012</td>\n",
       "      <td>07/2018</td>\n",
       "      <td>6.4 years</td>\n",
       "      <td>En Adopción</td>\n",
       "      <td>Actividad Normal</td>\n",
       "      <td>Compañia</td>\n",
       "      <td>Cariñoso</td>\n",
       "    </tr>\n",
       "    <tr>\n",
       "      <td>3</td>\n",
       "      <td>Goliath</td>\n",
       "      <td>Necesita un hogar urgente</td>\n",
       "      <td>Macho</td>\n",
       "      <td>Grande</td>\n",
       "      <td>Joven</td>\n",
       "      <td>Gris</td>\n",
       "      <td>Fila Brasileiro</td>\n",
       "      <td>03/2018</td>\n",
       "      <td>02/2019</td>\n",
       "      <td>0.9 years</td>\n",
       "      <td>Urgente</td>\n",
       "      <td>Actividad Normal</td>\n",
       "      <td>No Apto con perros, gatos, niños</td>\n",
       "      <td>Difícil</td>\n",
       "    </tr>\n",
       "    <tr>\n",
       "      <td>4</td>\n",
       "      <td>Bruno</td>\n",
       "      <td>Una persona que lo entienda</td>\n",
       "      <td>Macho</td>\n",
       "      <td>Pequeño</td>\n",
       "      <td>Adulto</td>\n",
       "      <td>Beig</td>\n",
       "      <td>Mestizo de Terrier</td>\n",
       "      <td>10/2011</td>\n",
       "      <td>01/2018</td>\n",
       "      <td>6.3 years</td>\n",
       "      <td>En Adopción</td>\n",
       "      <td>Actividad Normal</td>\n",
       "      <td>Compañia</td>\n",
       "      <td>Cariñoso</td>\n",
       "    </tr>\n",
       "  </tbody>\n",
       "</table>\n",
       "</div>"
      ],
      "text/plain": [
       "    Nombre                  Caracteristicas    Sexo  Medidas    Edad          Color                      Raza Nacimiento  Entrada Años perrera       Estado         Actividad                          Compañia  Caracter\n",
       "0  Gina     Curiosa y elegante               Hembra  Grande   Adulto  Blanco         Mestizo                   2010       02/2014  4.1 years    En Adopción  Actividad Normal  Compañia                          Cariñoso\n",
       "1  Horus    Una familia con dedicación       Macho   Grande   Joven   Marron oscuro  Mestizo de Pastor Alemán  03/2016    09/2017  1.5 years    En Adopción  Actividad Normal  Compañia                          Difícil \n",
       "2  Muñeca   Preparada para volver a empezar  Hembra  Mediano  Adulto  Negro          Mestizo                   02/2012    07/2018  6.4 years    En Adopción  Actividad Normal  Compañia                          Cariñoso\n",
       "3  Goliath  Necesita un hogar urgente        Macho   Grande   Joven   Gris           Fila Brasileiro           03/2018    02/2019  0.9 years    Urgente      Actividad Normal  No Apto con perros, gatos, niños  Difícil \n",
       "4  Bruno    Una persona que lo entienda      Macho   Pequeño  Adulto  Beig           Mestizo de Terrier        10/2011    01/2018  6.3 years    En Adopción  Actividad Normal  Compañia                          Cariñoso"
      ]
     },
     "execution_count": 6,
     "metadata": {},
     "output_type": "execute_result"
    }
   ],
   "source": [
    "stats_dogs.head(5)"
   ]
  },
  {
   "cell_type": "code",
   "execution_count": 7,
   "metadata": {},
   "outputs": [
    {
     "name": "stdout",
     "output_type": "stream",
     "text": [
      "We have 44 dogs in the dataset.\n"
     ]
    }
   ],
   "source": [
    "print(f'We have {stats_dogs.shape[0]} dogs in the dataset.')"
   ]
  },
  {
   "cell_type": "markdown",
   "metadata": {},
   "source": [
    "### 1.1.1 Variable types"
   ]
  },
  {
   "cell_type": "code",
   "execution_count": 8,
   "metadata": {},
   "outputs": [
    {
     "data": {
      "text/plain": [
       "Index(['Nombre', 'Caracteristicas', 'Sexo', 'Medidas', 'Edad', 'Color', 'Raza', 'Nacimiento', 'Entrada', 'Años perrera', 'Estado', 'Actividad', 'Compañia', 'Caracter'], dtype='object')"
      ]
     },
     "execution_count": 8,
     "metadata": {},
     "output_type": "execute_result"
    }
   ],
   "source": [
    "dogs_cat = stats_dogs.select_dtypes(exclude='number')\n",
    "dogs_cat.columns"
   ]
  },
  {
   "cell_type": "markdown",
   "metadata": {},
   "source": [
    "### Categorical values"
   ]
  },
  {
   "cell_type": "markdown",
   "metadata": {},
   "source": [
    "All data are **categorical**."
   ]
  },
  {
   "cell_type": "markdown",
   "metadata": {},
   "source": [
    "## 1.2 Dogs' features"
   ]
  },
  {
   "cell_type": "markdown",
   "metadata": {},
   "source": [
    "The data about the **dogs** is extracted directly from the web page of the **Protectora de Barcelona**. https://www.protectorabcn.es/\n",
    "\n",
    "It is important to know the date of the analysis because the page is updated continuously and the available dogs for adoption could change from a day to another."
   ]
  },
  {
   "cell_type": "code",
   "execution_count": 9,
   "metadata": {},
   "outputs": [
    {
     "name": "stdout",
     "output_type": "stream",
     "text": [
      "Current DATE and TIME of the ANALYSIS: Sat Oct 03 2020 02:44\n"
     ]
    }
   ],
   "source": [
    "now = datetime.datetime.now().strftime('%a %b %d %Y %H:%M')\n",
    "print(f'Current DATE and TIME of the ANALYSIS: {str(now)}')"
   ]
  },
  {
   "cell_type": "markdown",
   "metadata": {},
   "source": [
    "### Interesting columns"
   ]
  },
  {
   "cell_type": "code",
   "execution_count": 10,
   "metadata": {},
   "outputs": [
    {
     "data": {
      "text/plain": [
       "Index(['Nombre', 'Caracteristicas', 'Sexo', 'Medidas', 'Edad', 'Color', 'Raza', 'Nacimiento', 'Entrada', 'Años perrera', 'Estado', 'Actividad', 'Compañia', 'Caracter'], dtype='object')"
      ]
     },
     "execution_count": 10,
     "metadata": {},
     "output_type": "execute_result"
    }
   ],
   "source": [
    "stats_dogs.columns"
   ]
  },
  {
   "cell_type": "code",
   "execution_count": 11,
   "metadata": {},
   "outputs": [
    {
     "data": {
      "text/plain": [
       "array(['Adulto', 'Joven', 'Cachorro', 'Senior'], dtype=object)"
      ]
     },
     "execution_count": 11,
     "metadata": {},
     "output_type": "execute_result"
    }
   ],
   "source": [
    "stats_dogs.Edad.unique()"
   ]
  },
  {
   "cell_type": "code",
   "execution_count": 12,
   "metadata": {},
   "outputs": [
    {
     "data": {
      "text/plain": [
       "array(['Blanco', 'Marron oscuro', 'Negro', 'Gris', 'Beig',\n",
       "       'Canela y blanco', 'Marrón oscuro', 'Chocolate', 'Marrón claro',\n",
       "       'Negro y marrón', 'Crema', 'Atigrado y blanco', 'Atigrado',\n",
       "       'Propio', 'Marrón', 'Marrón y blanco', 'No disponible',\n",
       "       'Blanco y negro', 'Varios', 'Gris oscuro y blanco',\n",
       "       'Marron y negro'], dtype=object)"
      ]
     },
     "execution_count": 12,
     "metadata": {},
     "output_type": "execute_result"
    }
   ],
   "source": [
    "stats_dogs.Color.unique()"
   ]
  },
  {
   "cell_type": "code",
   "execution_count": 13,
   "metadata": {},
   "outputs": [
    {
     "data": {
      "text/plain": [
       "array(['Mestizo', 'Mestizo de Pastor Alemán', 'Fila Brasileiro',\n",
       "       'Mestizo de Terrier', 'Mestizo de Podenco',\n",
       "       'Mestizo de Bullterrier', 'Podenco', 'Mestizo de caniche',\n",
       "       'Mestizo de Mastín', 'Staffordshire inglés',\n",
       "       'Pastor belga malinois', 'Mestizo de Pitbull'], dtype=object)"
      ]
     },
     "execution_count": 13,
     "metadata": {},
     "output_type": "execute_result"
    }
   ],
   "source": [
    "stats_dogs.Raza.unique()"
   ]
  },
  {
   "cell_type": "code",
   "execution_count": 14,
   "metadata": {},
   "outputs": [
    {
     "data": {
      "text/plain": [
       "array(['4.1 years', '1.5 years', '6.4 years', '0.9 years', '6.3 years',\n",
       "       '5.4 years', '3.9 years', '2.0 years', '7.7 years', '3.6 years',\n",
       "       '6.2 years', '4.8 years', '8.5 years', '1.3 years', '5.3 years',\n",
       "       '6.8 years', '2.4 years', '3.3 years', '2.2 years', '1.7 years',\n",
       "       '4.0 years', '5.2 years', '4.9 years', '4.2 years', '1.1 years',\n",
       "       '2.3 years', '4.5 years', '12.7 years', '7.5 years', '2.5 years'],\n",
       "      dtype=object)"
      ]
     },
     "execution_count": 14,
     "metadata": {},
     "output_type": "execute_result"
    }
   ],
   "source": [
    "stats_dogs['Años perrera'].unique()"
   ]
  },
  {
   "cell_type": "markdown",
   "metadata": {},
   "source": [
    "## 1.3 Simplifying categories"
   ]
  },
  {
   "cell_type": "markdown",
   "metadata": {},
   "source": [
    "### Sexo"
   ]
  },
  {
   "cell_type": "code",
   "execution_count": 15,
   "metadata": {},
   "outputs": [
    {
     "data": {
      "text/plain": [
       "array(['Hembra', 'Macho'], dtype=object)"
      ]
     },
     "execution_count": 15,
     "metadata": {},
     "output_type": "execute_result"
    }
   ],
   "source": [
    "stats_dogs['Sexo'].unique()"
   ]
  },
  {
   "cell_type": "markdown",
   "metadata": {},
   "source": [
    "### Medidas"
   ]
  },
  {
   "cell_type": "code",
   "execution_count": 16,
   "metadata": {},
   "outputs": [
    {
     "data": {
      "text/plain": [
       "array(['Grande', 'Mediano', 'Pequeño', 'Mediano - Grande'], dtype=object)"
      ]
     },
     "execution_count": 16,
     "metadata": {},
     "output_type": "execute_result"
    }
   ],
   "source": [
    "stats_dogs.Medidas.unique()"
   ]
  },
  {
   "cell_type": "code",
   "execution_count": 17,
   "metadata": {},
   "outputs": [],
   "source": [
    "stats_dogs.Medidas = stats_dogs.apply(lambda x : 'Pequeña' if x['Medidas'] == 'Pequeño' else 'Mediana' \n",
    "                                        if x['Medidas'] == 'Mediano' else 'Grande', axis = 1) "
   ]
  },
  {
   "cell_type": "markdown",
   "metadata": {},
   "source": [
    "### Edad"
   ]
  },
  {
   "cell_type": "code",
   "execution_count": 18,
   "metadata": {},
   "outputs": [
    {
     "data": {
      "text/plain": [
       "array(['Adulto', 'Joven', 'Cachorro', 'Senior'], dtype=object)"
      ]
     },
     "execution_count": 18,
     "metadata": {},
     "output_type": "execute_result"
    }
   ],
   "source": [
    "stats_dogs.Edad.unique()"
   ]
  },
  {
   "cell_type": "code",
   "execution_count": 19,
   "metadata": {},
   "outputs": [],
   "source": [
    "stats_dogs['Edad'] = stats_dogs.apply(lambda x : 'Joven' if (x['Edad'] == 'Cachorro') | (x['Edad'] == 'Joven') else 'Adulto', axis = 1) "
   ]
  },
  {
   "cell_type": "markdown",
   "metadata": {},
   "source": [
    "### Color"
   ]
  },
  {
   "cell_type": "code",
   "execution_count": 20,
   "metadata": {},
   "outputs": [
    {
     "data": {
      "text/plain": [
       "array(['Blanco', 'Marron oscuro', 'Negro', 'Gris', 'Beig',\n",
       "       'Canela y blanco', 'Marrón oscuro', 'Chocolate', 'Marrón claro',\n",
       "       'Negro y marrón', 'Crema', 'Atigrado y blanco', 'Atigrado',\n",
       "       'Propio', 'Marrón', 'Marrón y blanco', 'No disponible',\n",
       "       'Blanco y negro', 'Varios', 'Gris oscuro y blanco',\n",
       "       'Marron y negro'], dtype=object)"
      ]
     },
     "execution_count": 20,
     "metadata": {},
     "output_type": "execute_result"
    }
   ],
   "source": [
    "stats_dogs.Color.unique()"
   ]
  },
  {
   "cell_type": "markdown",
   "metadata": {},
   "source": [
    "### Color categories\n",
    "\n",
    "The level of approximation used to simplify categories is subjective.\n",
    "\n",
    "*Legend*\n",
    "\n",
    "- **White**: White\n",
    "- **Black**: Black\n",
    "- **Brown**: Brown\n",
    "- **Cream**: Cream\n",
    "- **Grey**: Grey\n",
    "- **Mix**: Mix colors\n",
    "- **Unknown**: Unk"
   ]
  },
  {
   "cell_type": "code",
   "execution_count": 21,
   "metadata": {},
   "outputs": [],
   "source": [
    "color_cat = ['White', 'Brown', 'Black', 'Grey', 'Cream', 'Mix', 'Brown', 'Brown', 'Brown', 'Mix', 'Cream', 'Mix', 'Mix', 'Unk', 'Brown', 'Mix', 'Unk', 'Mix', 'Mix', 'Mix', 'Mix']"
   ]
  },
  {
   "cell_type": "code",
   "execution_count": 22,
   "metadata": {},
   "outputs": [],
   "source": [
    "colors = {}\n",
    "color_list = stats_dogs['Color'].unique()"
   ]
  },
  {
   "cell_type": "code",
   "execution_count": 23,
   "metadata": {},
   "outputs": [],
   "source": [
    "for i in range(len(color_list)):\n",
    "    colors[color_list[i]] = color_cat[i]"
   ]
  },
  {
   "cell_type": "code",
   "execution_count": 24,
   "metadata": {},
   "outputs": [],
   "source": [
    "# Transforming a dictionary in a column of the Dataframe\n",
    "stats_dogs.Color = stats_dogs.Color.map(colors)"
   ]
  },
  {
   "cell_type": "markdown",
   "metadata": {},
   "source": [
    "### Raza"
   ]
  },
  {
   "cell_type": "code",
   "execution_count": 25,
   "metadata": {},
   "outputs": [
    {
     "data": {
      "text/plain": [
       "array(['Mestizo', 'Mestizo de Pastor Alemán', 'Fila Brasileiro',\n",
       "       'Mestizo de Terrier', 'Mestizo de Podenco',\n",
       "       'Mestizo de Bullterrier', 'Podenco', 'Mestizo de caniche',\n",
       "       'Mestizo de Mastín', 'Staffordshire inglés',\n",
       "       'Pastor belga malinois', 'Mestizo de Pitbull'], dtype=object)"
      ]
     },
     "execution_count": 25,
     "metadata": {},
     "output_type": "execute_result"
    }
   ],
   "source": [
    "stats_dogs.Raza.unique()"
   ]
  },
  {
   "cell_type": "markdown",
   "metadata": {},
   "source": [
    "Dividing the dogs into two categories: **breed dogs** and **crossbreed dogs**."
   ]
  },
  {
   "cell_type": "code",
   "execution_count": 26,
   "metadata": {},
   "outputs": [],
   "source": [
    "stats_dogs.Raza = stats_dogs.apply(lambda x : 'Mestizo' if 'Mestizo' in x['Raza'] else 'Perro de Raza', axis = 1)"
   ]
  },
  {
   "cell_type": "markdown",
   "metadata": {},
   "source": [
    "### Años en la perrera"
   ]
  },
  {
   "cell_type": "code",
   "execution_count": 27,
   "metadata": {},
   "outputs": [
    {
     "data": {
      "text/plain": [
       "array(['4.1 years', '1.5 years', '6.4 years', '0.9 years', '6.3 years',\n",
       "       '5.4 years', '3.9 years', '2.0 years', '7.7 years', '3.6 years',\n",
       "       '6.2 years', '4.8 years', '8.5 years', '1.3 years', '5.3 years',\n",
       "       '6.8 years', '2.4 years', '3.3 years', '2.2 years', '1.7 years',\n",
       "       '4.0 years', '5.2 years', '4.9 years', '4.2 years', '1.1 years',\n",
       "       '2.3 years', '4.5 years', '12.7 years', '7.5 years', '2.5 years'],\n",
       "      dtype=object)"
      ]
     },
     "execution_count": 27,
     "metadata": {},
     "output_type": "execute_result"
    }
   ],
   "source": [
    "stats_dogs['Años perrera'].unique()"
   ]
  },
  {
   "cell_type": "markdown",
   "metadata": {},
   "source": [
    "Transforming the variable 'Anos perrera' from categoric to numeric"
   ]
  },
  {
   "cell_type": "code",
   "execution_count": 28,
   "metadata": {},
   "outputs": [],
   "source": [
    "stats_dogs['Años perrera'] =stats_dogs['Años perrera'].str.replace(' years','').astype(float)"
   ]
  },
  {
   "cell_type": "markdown",
   "metadata": {},
   "source": [
    "## 1.4 Bar plots (simplified categories)"
   ]
  },
  {
   "cell_type": "code",
   "execution_count": 29,
   "metadata": {},
   "outputs": [],
   "source": [
    "sel_parameters = ['Sexo','Medidas','Edad','Color','Raza']"
   ]
  },
  {
   "cell_type": "code",
   "execution_count": 30,
   "metadata": {},
   "outputs": [
    {
     "data": {
      "image/png": "[encoded data removed]",
      "text/plain": [
       "<Figure size 864x288 with 4 Axes>"
      ]
     },
     "metadata": {
      "needs_background": "light"
     },
     "output_type": "display_data"
    }
   ],
   "source": [
    "fig, ([ax1, ax2],[ax3, ax4]) = plt.subplots(2, 2, sharex=True, figsize=(12,4))\n",
    "fig.suptitle('Bar plots (percentage)', fontsize=15)\n",
    "fig.subplots_adjust(top = 0.9,wspace=0.4)\n",
    "\n",
    "plt.sca(ax1)\n",
    "x1 = (stats_dogs.Sexo.value_counts()*100/len(stats_dogs)).loc[['Hembra', 'Macho']].plot(kind='barh')\n",
    "ax1.set_title('Sex', loc='center', fontsize=10) \n",
    "\n",
    "plt.sca(ax2)\n",
    "x2 = (stats_dogs.Medidas.value_counts()*100/len(stats_dogs)).loc[['Pequeña', 'Mediana','Grande']].plot(kind='barh')\n",
    "ax2.set_title('Size', loc='center', fontsize=10);\n",
    "\n",
    "plt.sca(ax3)\n",
    "x3 = (stats_dogs.Edad.value_counts()*100/len(stats_dogs)).loc[['Joven', 'Adulto']].plot(kind='barh')\n",
    "ax3.set_title('Age', loc='center', fontsize=10);\n",
    "\n",
    "plt.sca(ax4)\n",
    "x4 = (stats_dogs.Raza.value_counts()*100/len(stats_dogs)).sort_values().loc[['Mestizo', 'Perro de Raza']].plot(kind='barh')\n",
    "ax4.set_title('Breed', loc='center', fontsize=10)\n",
    "plt.setp(ax4.get_xticklabels(), rotation=0);"
   ]
  },
  {
   "cell_type": "markdown",
   "metadata": {},
   "source": [
    "### **Observations**\n",
    "\n",
    "- **Sex** --> the sex of the dogs is equally distributed.\n",
    "- **Size** --> the sizes of the dogs is equally distributed.\n",
    "- **Age** --> almost 2/3 of the dogs are adults.\n",
    "- **Breed** --> most dogs are are crossbreeded."
   ]
  },
  {
   "cell_type": "code",
   "execution_count": 31,
   "metadata": {
    "scrolled": true
   },
   "outputs": [
    {
     "data": {
      "image/png": "[encoded data removed]",
      "text/plain": [
       "<Figure size 1440x432 with 2 Axes>"
      ]
     },
     "metadata": {
      "needs_background": "light"
     },
     "output_type": "display_data"
    }
   ],
   "source": [
    "fig, ([ax5, ax6]) = plt.subplots(1, 2, figsize=(20,6))\n",
    "fig.suptitle('Years in the Kennel Bar plots', fontsize=15)\n",
    "fig.subplots_adjust(top = 0.9,wspace=0.4)\n",
    "\n",
    "plt.sca(ax5)\n",
    "x5 = (stats_dogs['Años perrera'].value_counts()*100/len(stats_dogs)).plot(kind='barh')\n",
    "ax5.set_title('Years in the kennel', loc='center', fontsize=15)\n",
    "ax5.set_yticklabels(sorted(stats_dogs['Años perrera'].unique()))\n",
    "\n",
    "# Dogs that have lived in the kennel for more than three years\n",
    "kennel_more3years = stats_dogs[stats_dogs['Años perrera']>3]['Nombre'].count()*100/len(stats_dogs)\n",
    "kennel_less3years = stats_dogs[stats_dogs['Años perrera']<3]['Nombre'].count()*100/len(stats_dogs)\n",
    "kennel_years =[kennel_more3years, kennel_less3years]\n",
    "\n",
    "# sns.barplot(x = stats_dogs['Años perrera'].apply(lambda x: 1 if x >3 else 0).value_counts().index, y = stats_dogs['Años perrera'].apply(lambda x: 1 if x >3 else 0).value_counts(), ax = ax6)\n",
    "plt.sca(ax6)\n",
    "x6 = (stats_dogs['Años perrera'].apply(lambda x: 'max 3 years' if x >3 else 'min 3 years').value_counts()).plot(kind='barh')\n",
    "ax6.set_title('Years in the kennel grouped', loc='center', fontsize=15);"
   ]
  },
  {
   "cell_type": "markdown",
   "metadata": {},
   "source": [
    "### **Observations**\n",
    "\n",
    "- **Years in the kennel** --> almost 2/3 of the dogs have lived in the kennel for at least three years."
   ]
  },
  {
   "cell_type": "markdown",
   "metadata": {},
   "source": [
    "### Curious statistics"
   ]
  },
  {
   "cell_type": "code",
   "execution_count": 32,
   "metadata": {},
   "outputs": [
    {
     "data": {
      "image/png": "[encoded data removed]",
      "text/plain": [
       "<Figure size 432x288 with 1 Axes>"
      ]
     },
     "metadata": {
      "needs_background": "light"
     },
     "output_type": "display_data"
    }
   ],
   "source": [
    "sns.barplot(y = stats_dogs['Color'].value_counts().index, x= stats_dogs['Color'].value_counts());"
   ]
  },
  {
   "cell_type": "markdown",
   "metadata": {},
   "source": [
    "As observed, almost 2/3 of the dogs are adults. The sizes of the dogs are more equally distributed."
   ]
  },
  {
   "cell_type": "markdown",
   "metadata": {},
   "source": [
    "## 1.5 Probability Function"
   ]
  },
  {
   "cell_type": "markdown",
   "metadata": {},
   "source": [
    "Function of the probability of finding a **dog** with **specific features** in the **list of adoptable dogs**."
   ]
  },
  {
   "cell_type": "markdown",
   "metadata": {},
   "source": [
    "### Dogs' features\n",
    "\n",
    "*Legend*\n",
    "\n",
    "- sex\n",
    "- size\n",
    "- age\n",
    "- color\n",
    "- breed\n",
    "- years in the kennel"
   ]
  },
  {
   "cell_type": "code",
   "execution_count": 33,
   "metadata": {},
   "outputs": [],
   "source": [
    "sex = stats_dogs.Sexo.unique()"
   ]
  },
  {
   "cell_type": "code",
   "execution_count": 34,
   "metadata": {},
   "outputs": [],
   "source": [
    "size = stats_dogs.Medidas.unique()"
   ]
  },
  {
   "cell_type": "code",
   "execution_count": 35,
   "metadata": {},
   "outputs": [],
   "source": [
    "age = stats_dogs.Edad.unique()"
   ]
  },
  {
   "cell_type": "code",
   "execution_count": 36,
   "metadata": {},
   "outputs": [],
   "source": [
    "color = list(set(color_cat))"
   ]
  },
  {
   "cell_type": "code",
   "execution_count": 37,
   "metadata": {},
   "outputs": [],
   "source": [
    "breed = stats_dogs.Raza.unique()"
   ]
  },
  {
   "cell_type": "code",
   "execution_count": 38,
   "metadata": {},
   "outputs": [],
   "source": [
    "years = stats_dogs['Años perrera'].unique()"
   ]
  },
  {
   "cell_type": "markdown",
   "metadata": {},
   "source": [
    "### Selection criteria"
   ]
  },
  {
   "cell_type": "code",
   "execution_count": 39,
   "metadata": {},
   "outputs": [],
   "source": [
    "sel_parameters = ['Sexo','Medidas','Edad','Color','Raza']"
   ]
  },
  {
   "cell_type": "code",
   "execution_count": 40,
   "metadata": {},
   "outputs": [],
   "source": [
    "# @interact(sex=sex, size=size, age=age, color=color, breed=breed)\n",
    "def total_probability_finder(sex,size,age,color,breed):\n",
    " \n",
    "    '''\n",
    "    The function calculates the probability that a dog available for adoption can have some features specified by a hypothetical future owner.\n",
    "    '''     \n",
    "    \n",
    "    while len(sel_parameters) != 0:\n",
    "    \n",
    "        # Define the filter criteria\n",
    "        selection=[sex,size,age,color,breed]\n",
    "    #     print(selection)\n",
    "\n",
    "        filter_criteria = []\n",
    "        for sel in selection:\n",
    "            if sel != '':\n",
    "                filter_criteria.append(sel)\n",
    "                if len(filter_criteria) == 1:\n",
    "                    sel_criteria = filter_criteria[0]\n",
    "                else:\n",
    "                    sel_criteria = tuple(filter_criteria)\n",
    "    #     print(sel_criteria)\n",
    "\n",
    "\n",
    "        # Create a Dataframe based on predefined filter criteria\n",
    "        filtered_serie = (stats_dogs.groupby(sel_parameters).agg('count')).iloc[:, 0] / len(stats_dogs)\n",
    "\n",
    "        # Converts pandas series into a transpose DataFrame (switch columns-rows)\n",
    "        filtered_df = pd.DataFrame(filtered_serie).T\n",
    "    #     print(filtered_df)\n",
    "\n",
    "    #     display(sel_criteria)\n",
    "        for column in filtered_df.columns:\n",
    "    #         print(prob)\n",
    "            if column == sel_criteria:\n",
    "    #             print(prob == sel_criteria)\n",
    "                probability = filtered_df[column][0]\n",
    "                percentage =(round(probability,3))*100\n",
    "            else:\n",
    "                continue\n",
    "            \n",
    "            return (f'The probability of finding the pet friend of your dreams among the adoptable dogs in the kennel right now is {percentage}%!')            \n",
    "                     \n",
    "    print('Choose one characteristic of your future best friend!')"
   ]
  },
  {
   "cell_type": "code",
   "execution_count": 41,
   "metadata": {},
   "outputs": [
    {
     "ename": "KeyboardInterrupt",
     "evalue": "",
     "output_type": "error",
     "traceback": [
      "\u001b[1;31m---------------------------------------------------------------------------\u001b[0m",
      "\u001b[1;31mKeyboardInterrupt\u001b[0m                         Traceback (most recent call last)",
      "\u001b[1;32mD:\\ANACONDA\\lib\\site-packages\\ipywidgets\\widgets\\interaction.py\u001b[0m in \u001b[0;36mupdate\u001b[1;34m(self, *args)\u001b[0m\n\u001b[0;32m    254\u001b[0m                     \u001b[0mvalue\u001b[0m \u001b[1;33m=\u001b[0m \u001b[0mwidget\u001b[0m\u001b[1;33m.\u001b[0m\u001b[0mget_interact_value\u001b[0m\u001b[1;33m(\u001b[0m\u001b[1;33m)\u001b[0m\u001b[1;33m\u001b[0m\u001b[1;33m\u001b[0m\u001b[0m\n\u001b[0;32m    255\u001b[0m                     \u001b[0mself\u001b[0m\u001b[1;33m.\u001b[0m\u001b[0mkwargs\u001b[0m\u001b[1;33m[\u001b[0m\u001b[0mwidget\u001b[0m\u001b[1;33m.\u001b[0m\u001b[0m_kwarg\u001b[0m\u001b[1;33m]\u001b[0m \u001b[1;33m=\u001b[0m \u001b[0mvalue\u001b[0m\u001b[1;33m\u001b[0m\u001b[1;33m\u001b[0m\u001b[0m\n\u001b[1;32m--> 256\u001b[1;33m                 \u001b[0mself\u001b[0m\u001b[1;33m.\u001b[0m\u001b[0mresult\u001b[0m \u001b[1;33m=\u001b[0m \u001b[0mself\u001b[0m\u001b[1;33m.\u001b[0m\u001b[0mf\u001b[0m\u001b[1;33m(\u001b[0m\u001b[1;33m**\u001b[0m\u001b[0mself\u001b[0m\u001b[1;33m.\u001b[0m\u001b[0mkwargs\u001b[0m\u001b[1;33m)\u001b[0m\u001b[1;33m\u001b[0m\u001b[1;33m\u001b[0m\u001b[0m\n\u001b[0m\u001b[0;32m    257\u001b[0m                 \u001b[0mshow_inline_matplotlib_plots\u001b[0m\u001b[1;33m(\u001b[0m\u001b[1;33m)\u001b[0m\u001b[1;33m\u001b[0m\u001b[1;33m\u001b[0m\u001b[0m\n\u001b[0;32m    258\u001b[0m                 \u001b[1;32mif\u001b[0m \u001b[0mself\u001b[0m\u001b[1;33m.\u001b[0m\u001b[0mauto_display\u001b[0m \u001b[1;32mand\u001b[0m \u001b[0mself\u001b[0m\u001b[1;33m.\u001b[0m\u001b[0mresult\u001b[0m \u001b[1;32mis\u001b[0m \u001b[1;32mnot\u001b[0m \u001b[1;32mNone\u001b[0m\u001b[1;33m:\u001b[0m\u001b[1;33m\u001b[0m\u001b[1;33m\u001b[0m\u001b[0m\n",
      "\u001b[1;32m<ipython-input-40-323aea9e8ee5>\u001b[0m in \u001b[0;36mtotal_probability_finder\u001b[1;34m(sex, size, age, color, breed)\u001b[0m\n\u001b[0;32m     24\u001b[0m \u001b[1;33m\u001b[0m\u001b[0m\n\u001b[0;32m     25\u001b[0m         \u001b[1;31m# Create a Dataframe based on predefined filter criteria\u001b[0m\u001b[1;33m\u001b[0m\u001b[1;33m\u001b[0m\u001b[1;33m\u001b[0m\u001b[0m\n\u001b[1;32m---> 26\u001b[1;33m         \u001b[0mfiltered_serie\u001b[0m \u001b[1;33m=\u001b[0m \u001b[1;33m(\u001b[0m\u001b[0mstats_dogs\u001b[0m\u001b[1;33m.\u001b[0m\u001b[0mgroupby\u001b[0m\u001b[1;33m(\u001b[0m\u001b[0msel_parameters\u001b[0m\u001b[1;33m)\u001b[0m\u001b[1;33m.\u001b[0m\u001b[0magg\u001b[0m\u001b[1;33m(\u001b[0m\u001b[1;34m'count'\u001b[0m\u001b[1;33m)\u001b[0m\u001b[1;33m)\u001b[0m\u001b[1;33m.\u001b[0m\u001b[0miloc\u001b[0m\u001b[1;33m[\u001b[0m\u001b[1;33m:\u001b[0m\u001b[1;33m,\u001b[0m \u001b[1;36m0\u001b[0m\u001b[1;33m]\u001b[0m \u001b[1;33m/\u001b[0m \u001b[0mlen\u001b[0m\u001b[1;33m(\u001b[0m\u001b[0mstats_dogs\u001b[0m\u001b[1;33m)\u001b[0m\u001b[1;33m\u001b[0m\u001b[1;33m\u001b[0m\u001b[0m\n\u001b[0m\u001b[0;32m     27\u001b[0m \u001b[1;33m\u001b[0m\u001b[0m\n\u001b[0;32m     28\u001b[0m         \u001b[1;31m# Converts pandas series into a transpose DataFrame (switch columns-rows)\u001b[0m\u001b[1;33m\u001b[0m\u001b[1;33m\u001b[0m\u001b[1;33m\u001b[0m\u001b[0m\n",
      "\u001b[1;32mD:\\ANACONDA\\lib\\site-packages\\pandas\\core\\groupby\\generic.py\u001b[0m in \u001b[0;36maggregate\u001b[1;34m(self, arg, *args, **kwargs)\u001b[0m\n\u001b[0;32m   1453\u001b[0m     \u001b[1;33m@\u001b[0m\u001b[0mAppender\u001b[0m\u001b[1;33m(\u001b[0m\u001b[0m_shared_docs\u001b[0m\u001b[1;33m[\u001b[0m\u001b[1;34m\"aggregate\"\u001b[0m\u001b[1;33m]\u001b[0m\u001b[1;33m)\u001b[0m\u001b[1;33m\u001b[0m\u001b[1;33m\u001b[0m\u001b[0m\n\u001b[0;32m   1454\u001b[0m     \u001b[1;32mdef\u001b[0m \u001b[0maggregate\u001b[0m\u001b[1;33m(\u001b[0m\u001b[0mself\u001b[0m\u001b[1;33m,\u001b[0m \u001b[0marg\u001b[0m\u001b[1;33m=\u001b[0m\u001b[1;32mNone\u001b[0m\u001b[1;33m,\u001b[0m \u001b[1;33m*\u001b[0m\u001b[0margs\u001b[0m\u001b[1;33m,\u001b[0m \u001b[1;33m**\u001b[0m\u001b[0mkwargs\u001b[0m\u001b[1;33m)\u001b[0m\u001b[1;33m:\u001b[0m\u001b[1;33m\u001b[0m\u001b[1;33m\u001b[0m\u001b[0m\n\u001b[1;32m-> 1455\u001b[1;33m         \u001b[1;32mreturn\u001b[0m \u001b[0msuper\u001b[0m\u001b[1;33m(\u001b[0m\u001b[1;33m)\u001b[0m\u001b[1;33m.\u001b[0m\u001b[0maggregate\u001b[0m\u001b[1;33m(\u001b[0m\u001b[0marg\u001b[0m\u001b[1;33m,\u001b[0m \u001b[1;33m*\u001b[0m\u001b[0margs\u001b[0m\u001b[1;33m,\u001b[0m \u001b[1;33m**\u001b[0m\u001b[0mkwargs\u001b[0m\u001b[1;33m)\u001b[0m\u001b[1;33m\u001b[0m\u001b[1;33m\u001b[0m\u001b[0m\n\u001b[0m\u001b[0;32m   1456\u001b[0m \u001b[1;33m\u001b[0m\u001b[0m\n\u001b[0;32m   1457\u001b[0m     \u001b[0magg\u001b[0m \u001b[1;33m=\u001b[0m \u001b[0maggregate\u001b[0m\u001b[1;33m\u001b[0m\u001b[1;33m\u001b[0m\u001b[0m\n",
      "\u001b[1;32mD:\\ANACONDA\\lib\\site-packages\\pandas\\core\\groupby\\generic.py\u001b[0m in \u001b[0;36maggregate\u001b[1;34m(self, func, *args, **kwargs)\u001b[0m\n\u001b[0;32m    227\u001b[0m         \u001b[0mfunc\u001b[0m \u001b[1;33m=\u001b[0m \u001b[0m_maybe_mangle_lambdas\u001b[0m\u001b[1;33m(\u001b[0m\u001b[0mfunc\u001b[0m\u001b[1;33m)\u001b[0m\u001b[1;33m\u001b[0m\u001b[1;33m\u001b[0m\u001b[0m\n\u001b[0;32m    228\u001b[0m \u001b[1;33m\u001b[0m\u001b[0m\n\u001b[1;32m--> 229\u001b[1;33m         \u001b[0mresult\u001b[0m\u001b[1;33m,\u001b[0m \u001b[0mhow\u001b[0m \u001b[1;33m=\u001b[0m \u001b[0mself\u001b[0m\u001b[1;33m.\u001b[0m\u001b[0m_aggregate\u001b[0m\u001b[1;33m(\u001b[0m\u001b[0mfunc\u001b[0m\u001b[1;33m,\u001b[0m \u001b[0m_level\u001b[0m\u001b[1;33m=\u001b[0m\u001b[0m_level\u001b[0m\u001b[1;33m,\u001b[0m \u001b[1;33m*\u001b[0m\u001b[0margs\u001b[0m\u001b[1;33m,\u001b[0m \u001b[1;33m**\u001b[0m\u001b[0mkwargs\u001b[0m\u001b[1;33m)\u001b[0m\u001b[1;33m\u001b[0m\u001b[1;33m\u001b[0m\u001b[0m\n\u001b[0m\u001b[0;32m    230\u001b[0m         \u001b[1;32mif\u001b[0m \u001b[0mhow\u001b[0m \u001b[1;32mis\u001b[0m \u001b[1;32mNone\u001b[0m\u001b[1;33m:\u001b[0m\u001b[1;33m\u001b[0m\u001b[1;33m\u001b[0m\u001b[0m\n\u001b[0;32m    231\u001b[0m             \u001b[1;32mreturn\u001b[0m \u001b[0mresult\u001b[0m\u001b[1;33m\u001b[0m\u001b[1;33m\u001b[0m\u001b[0m\n",
      "\u001b[1;32mD:\\ANACONDA\\lib\\site-packages\\pandas\\core\\base.py\u001b[0m in \u001b[0;36m_aggregate\u001b[1;34m(self, arg, *args, **kwargs)\u001b[0m\n\u001b[0;32m    354\u001b[0m \u001b[1;33m\u001b[0m\u001b[0m\n\u001b[0;32m    355\u001b[0m         \u001b[1;32mif\u001b[0m \u001b[0misinstance\u001b[0m\u001b[1;33m(\u001b[0m\u001b[0marg\u001b[0m\u001b[1;33m,\u001b[0m \u001b[0mstr\u001b[0m\u001b[1;33m)\u001b[0m\u001b[1;33m:\u001b[0m\u001b[1;33m\u001b[0m\u001b[1;33m\u001b[0m\u001b[0m\n\u001b[1;32m--> 356\u001b[1;33m             \u001b[1;32mreturn\u001b[0m \u001b[0mself\u001b[0m\u001b[1;33m.\u001b[0m\u001b[0m_try_aggregate_string_function\u001b[0m\u001b[1;33m(\u001b[0m\u001b[0marg\u001b[0m\u001b[1;33m,\u001b[0m \u001b[1;33m*\u001b[0m\u001b[0margs\u001b[0m\u001b[1;33m,\u001b[0m \u001b[1;33m**\u001b[0m\u001b[0mkwargs\u001b[0m\u001b[1;33m)\u001b[0m\u001b[1;33m,\u001b[0m \u001b[1;32mNone\u001b[0m\u001b[1;33m\u001b[0m\u001b[1;33m\u001b[0m\u001b[0m\n\u001b[0m\u001b[0;32m    357\u001b[0m \u001b[1;33m\u001b[0m\u001b[0m\n\u001b[0;32m    358\u001b[0m         \u001b[1;32mif\u001b[0m \u001b[0misinstance\u001b[0m\u001b[1;33m(\u001b[0m\u001b[0marg\u001b[0m\u001b[1;33m,\u001b[0m \u001b[0mdict\u001b[0m\u001b[1;33m)\u001b[0m\u001b[1;33m:\u001b[0m\u001b[1;33m\u001b[0m\u001b[1;33m\u001b[0m\u001b[0m\n",
      "\u001b[1;32mD:\\ANACONDA\\lib\\site-packages\\pandas\\core\\base.py\u001b[0m in \u001b[0;36m_try_aggregate_string_function\u001b[1;34m(self, arg, *args, **kwargs)\u001b[0m\n\u001b[0;32m    303\u001b[0m         \u001b[1;32mif\u001b[0m \u001b[0mf\u001b[0m \u001b[1;32mis\u001b[0m \u001b[1;32mnot\u001b[0m \u001b[1;32mNone\u001b[0m\u001b[1;33m:\u001b[0m\u001b[1;33m\u001b[0m\u001b[1;33m\u001b[0m\u001b[0m\n\u001b[0;32m    304\u001b[0m             \u001b[1;32mif\u001b[0m \u001b[0mcallable\u001b[0m\u001b[1;33m(\u001b[0m\u001b[0mf\u001b[0m\u001b[1;33m)\u001b[0m\u001b[1;33m:\u001b[0m\u001b[1;33m\u001b[0m\u001b[1;33m\u001b[0m\u001b[0m\n\u001b[1;32m--> 305\u001b[1;33m                 \u001b[1;32mreturn\u001b[0m \u001b[0mf\u001b[0m\u001b[1;33m(\u001b[0m\u001b[1;33m*\u001b[0m\u001b[0margs\u001b[0m\u001b[1;33m,\u001b[0m \u001b[1;33m**\u001b[0m\u001b[0mkwargs\u001b[0m\u001b[1;33m)\u001b[0m\u001b[1;33m\u001b[0m\u001b[1;33m\u001b[0m\u001b[0m\n\u001b[0m\u001b[0;32m    306\u001b[0m \u001b[1;33m\u001b[0m\u001b[0m\n\u001b[0;32m    307\u001b[0m             \u001b[1;31m# people may try to aggregate on a non-callable attribute\u001b[0m\u001b[1;33m\u001b[0m\u001b[1;33m\u001b[0m\u001b[1;33m\u001b[0m\u001b[0m\n",
      "\u001b[1;32mD:\\ANACONDA\\lib\\site-packages\\pandas\\core\\groupby\\generic.py\u001b[0m in \u001b[0;36mcount\u001b[1;34m(self)\u001b[0m\n\u001b[0;32m   1594\u001b[0m \u001b[1;33m\u001b[0m\u001b[0m\n\u001b[0;32m   1595\u001b[0m         \u001b[0mdata\u001b[0m\u001b[1;33m,\u001b[0m \u001b[0m_\u001b[0m \u001b[1;33m=\u001b[0m \u001b[0mself\u001b[0m\u001b[1;33m.\u001b[0m\u001b[0m_get_data_to_aggregate\u001b[0m\u001b[1;33m(\u001b[0m\u001b[1;33m)\u001b[0m\u001b[1;33m\u001b[0m\u001b[1;33m\u001b[0m\u001b[0m\n\u001b[1;32m-> 1596\u001b[1;33m         \u001b[0mids\u001b[0m\u001b[1;33m,\u001b[0m \u001b[0m_\u001b[0m\u001b[1;33m,\u001b[0m \u001b[0mngroups\u001b[0m \u001b[1;33m=\u001b[0m \u001b[0mself\u001b[0m\u001b[1;33m.\u001b[0m\u001b[0mgrouper\u001b[0m\u001b[1;33m.\u001b[0m\u001b[0mgroup_info\u001b[0m\u001b[1;33m\u001b[0m\u001b[1;33m\u001b[0m\u001b[0m\n\u001b[0m\u001b[0;32m   1597\u001b[0m         \u001b[0mmask\u001b[0m \u001b[1;33m=\u001b[0m \u001b[0mids\u001b[0m \u001b[1;33m!=\u001b[0m \u001b[1;33m-\u001b[0m\u001b[1;36m1\u001b[0m\u001b[1;33m\u001b[0m\u001b[1;33m\u001b[0m\u001b[0m\n\u001b[0;32m   1598\u001b[0m \u001b[1;33m\u001b[0m\u001b[0m\n",
      "\u001b[1;32mpandas\\_libs\\properties.pyx\u001b[0m in \u001b[0;36mpandas._libs.properties.CachedProperty.__get__\u001b[1;34m()\u001b[0m\n",
      "\u001b[1;32mD:\\ANACONDA\\lib\\site-packages\\pandas\\core\\groupby\\ops.py\u001b[0m in \u001b[0;36mgroup_info\u001b[1;34m(self)\u001b[0m\n\u001b[0;32m    294\u001b[0m     \u001b[1;33m@\u001b[0m\u001b[0mcache_readonly\u001b[0m\u001b[1;33m\u001b[0m\u001b[1;33m\u001b[0m\u001b[0m\n\u001b[0;32m    295\u001b[0m     \u001b[1;32mdef\u001b[0m \u001b[0mgroup_info\u001b[0m\u001b[1;33m(\u001b[0m\u001b[0mself\u001b[0m\u001b[1;33m)\u001b[0m\u001b[1;33m:\u001b[0m\u001b[1;33m\u001b[0m\u001b[1;33m\u001b[0m\u001b[0m\n\u001b[1;32m--> 296\u001b[1;33m         \u001b[0mcomp_ids\u001b[0m\u001b[1;33m,\u001b[0m \u001b[0mobs_group_ids\u001b[0m \u001b[1;33m=\u001b[0m \u001b[0mself\u001b[0m\u001b[1;33m.\u001b[0m\u001b[0m_get_compressed_labels\u001b[0m\u001b[1;33m(\u001b[0m\u001b[1;33m)\u001b[0m\u001b[1;33m\u001b[0m\u001b[1;33m\u001b[0m\u001b[0m\n\u001b[0m\u001b[0;32m    297\u001b[0m \u001b[1;33m\u001b[0m\u001b[0m\n\u001b[0;32m    298\u001b[0m         \u001b[0mngroups\u001b[0m \u001b[1;33m=\u001b[0m \u001b[0mlen\u001b[0m\u001b[1;33m(\u001b[0m\u001b[0mobs_group_ids\u001b[0m\u001b[1;33m)\u001b[0m\u001b[1;33m\u001b[0m\u001b[1;33m\u001b[0m\u001b[0m\n",
      "\u001b[1;32mD:\\ANACONDA\\lib\\site-packages\\pandas\\core\\groupby\\ops.py\u001b[0m in \u001b[0;36m_get_compressed_labels\u001b[1;34m(self)\u001b[0m\n\u001b[0;32m    310\u001b[0m \u001b[1;33m\u001b[0m\u001b[0m\n\u001b[0;32m    311\u001b[0m     \u001b[1;32mdef\u001b[0m \u001b[0m_get_compressed_labels\u001b[0m\u001b[1;33m(\u001b[0m\u001b[0mself\u001b[0m\u001b[1;33m)\u001b[0m\u001b[1;33m:\u001b[0m\u001b[1;33m\u001b[0m\u001b[1;33m\u001b[0m\u001b[0m\n\u001b[1;32m--> 312\u001b[1;33m         \u001b[0mall_labels\u001b[0m \u001b[1;33m=\u001b[0m \u001b[1;33m[\u001b[0m\u001b[0mping\u001b[0m\u001b[1;33m.\u001b[0m\u001b[0mlabels\u001b[0m \u001b[1;32mfor\u001b[0m \u001b[0mping\u001b[0m \u001b[1;32min\u001b[0m \u001b[0mself\u001b[0m\u001b[1;33m.\u001b[0m\u001b[0mgroupings\u001b[0m\u001b[1;33m]\u001b[0m\u001b[1;33m\u001b[0m\u001b[1;33m\u001b[0m\u001b[0m\n\u001b[0m\u001b[0;32m    313\u001b[0m         \u001b[1;32mif\u001b[0m \u001b[0mlen\u001b[0m\u001b[1;33m(\u001b[0m\u001b[0mall_labels\u001b[0m\u001b[1;33m)\u001b[0m \u001b[1;33m>\u001b[0m \u001b[1;36m1\u001b[0m\u001b[1;33m:\u001b[0m\u001b[1;33m\u001b[0m\u001b[1;33m\u001b[0m\u001b[0m\n\u001b[0;32m    314\u001b[0m             \u001b[0mgroup_index\u001b[0m \u001b[1;33m=\u001b[0m \u001b[0mget_group_index\u001b[0m\u001b[1;33m(\u001b[0m\u001b[0mall_labels\u001b[0m\u001b[1;33m,\u001b[0m \u001b[0mself\u001b[0m\u001b[1;33m.\u001b[0m\u001b[0mshape\u001b[0m\u001b[1;33m,\u001b[0m \u001b[0msort\u001b[0m\u001b[1;33m=\u001b[0m\u001b[1;32mTrue\u001b[0m\u001b[1;33m,\u001b[0m \u001b[0mxnull\u001b[0m\u001b[1;33m=\u001b[0m\u001b[1;32mTrue\u001b[0m\u001b[1;33m)\u001b[0m\u001b[1;33m\u001b[0m\u001b[1;33m\u001b[0m\u001b[0m\n",
      "\u001b[1;32mD:\\ANACONDA\\lib\\site-packages\\pandas\\core\\groupby\\ops.py\u001b[0m in \u001b[0;36m<listcomp>\u001b[1;34m(.0)\u001b[0m\n\u001b[0;32m    310\u001b[0m \u001b[1;33m\u001b[0m\u001b[0m\n\u001b[0;32m    311\u001b[0m     \u001b[1;32mdef\u001b[0m \u001b[0m_get_compressed_labels\u001b[0m\u001b[1;33m(\u001b[0m\u001b[0mself\u001b[0m\u001b[1;33m)\u001b[0m\u001b[1;33m:\u001b[0m\u001b[1;33m\u001b[0m\u001b[1;33m\u001b[0m\u001b[0m\n\u001b[1;32m--> 312\u001b[1;33m         \u001b[0mall_labels\u001b[0m \u001b[1;33m=\u001b[0m \u001b[1;33m[\u001b[0m\u001b[0mping\u001b[0m\u001b[1;33m.\u001b[0m\u001b[0mlabels\u001b[0m \u001b[1;32mfor\u001b[0m \u001b[0mping\u001b[0m \u001b[1;32min\u001b[0m \u001b[0mself\u001b[0m\u001b[1;33m.\u001b[0m\u001b[0mgroupings\u001b[0m\u001b[1;33m]\u001b[0m\u001b[1;33m\u001b[0m\u001b[1;33m\u001b[0m\u001b[0m\n\u001b[0m\u001b[0;32m    313\u001b[0m         \u001b[1;32mif\u001b[0m \u001b[0mlen\u001b[0m\u001b[1;33m(\u001b[0m\u001b[0mall_labels\u001b[0m\u001b[1;33m)\u001b[0m \u001b[1;33m>\u001b[0m \u001b[1;36m1\u001b[0m\u001b[1;33m:\u001b[0m\u001b[1;33m\u001b[0m\u001b[1;33m\u001b[0m\u001b[0m\n\u001b[0;32m    314\u001b[0m             \u001b[0mgroup_index\u001b[0m \u001b[1;33m=\u001b[0m \u001b[0mget_group_index\u001b[0m\u001b[1;33m(\u001b[0m\u001b[0mall_labels\u001b[0m\u001b[1;33m,\u001b[0m \u001b[0mself\u001b[0m\u001b[1;33m.\u001b[0m\u001b[0mshape\u001b[0m\u001b[1;33m,\u001b[0m \u001b[0msort\u001b[0m\u001b[1;33m=\u001b[0m\u001b[1;32mTrue\u001b[0m\u001b[1;33m,\u001b[0m \u001b[0mxnull\u001b[0m\u001b[1;33m=\u001b[0m\u001b[1;32mTrue\u001b[0m\u001b[1;33m)\u001b[0m\u001b[1;33m\u001b[0m\u001b[1;33m\u001b[0m\u001b[0m\n",
      "\u001b[1;32mD:\\ANACONDA\\lib\\site-packages\\pandas\\core\\groupby\\grouper.py\u001b[0m in \u001b[0;36mlabels\u001b[1;34m(self)\u001b[0m\n\u001b[0;32m    395\u001b[0m     \u001b[1;32mdef\u001b[0m \u001b[0mlabels\u001b[0m\u001b[1;33m(\u001b[0m\u001b[0mself\u001b[0m\u001b[1;33m)\u001b[0m\u001b[1;33m:\u001b[0m\u001b[1;33m\u001b[0m\u001b[1;33m\u001b[0m\u001b[0m\n\u001b[0;32m    396\u001b[0m         \u001b[1;32mif\u001b[0m \u001b[0mself\u001b[0m\u001b[1;33m.\u001b[0m\u001b[0m_labels\u001b[0m \u001b[1;32mis\u001b[0m \u001b[1;32mNone\u001b[0m\u001b[1;33m:\u001b[0m\u001b[1;33m\u001b[0m\u001b[1;33m\u001b[0m\u001b[0m\n\u001b[1;32m--> 397\u001b[1;33m             \u001b[0mself\u001b[0m\u001b[1;33m.\u001b[0m\u001b[0m_make_labels\u001b[0m\u001b[1;33m(\u001b[0m\u001b[1;33m)\u001b[0m\u001b[1;33m\u001b[0m\u001b[1;33m\u001b[0m\u001b[0m\n\u001b[0m\u001b[0;32m    398\u001b[0m         \u001b[1;32mreturn\u001b[0m \u001b[0mself\u001b[0m\u001b[1;33m.\u001b[0m\u001b[0m_labels\u001b[0m\u001b[1;33m\u001b[0m\u001b[1;33m\u001b[0m\u001b[0m\n\u001b[0;32m    399\u001b[0m \u001b[1;33m\u001b[0m\u001b[0m\n",
      "\u001b[1;32mD:\\ANACONDA\\lib\\site-packages\\pandas\\core\\groupby\\grouper.py\u001b[0m in \u001b[0;36m_make_labels\u001b[1;34m(self)\u001b[0m\n\u001b[0;32m    419\u001b[0m                 \u001b[0muniques\u001b[0m \u001b[1;33m=\u001b[0m \u001b[0mself\u001b[0m\u001b[1;33m.\u001b[0m\u001b[0mgrouper\u001b[0m\u001b[1;33m.\u001b[0m\u001b[0mresult_index\u001b[0m\u001b[1;33m\u001b[0m\u001b[1;33m\u001b[0m\u001b[0m\n\u001b[0;32m    420\u001b[0m             \u001b[1;32melse\u001b[0m\u001b[1;33m:\u001b[0m\u001b[1;33m\u001b[0m\u001b[1;33m\u001b[0m\u001b[0m\n\u001b[1;32m--> 421\u001b[1;33m                 \u001b[0mlabels\u001b[0m\u001b[1;33m,\u001b[0m \u001b[0muniques\u001b[0m \u001b[1;33m=\u001b[0m \u001b[0malgorithms\u001b[0m\u001b[1;33m.\u001b[0m\u001b[0mfactorize\u001b[0m\u001b[1;33m(\u001b[0m\u001b[0mself\u001b[0m\u001b[1;33m.\u001b[0m\u001b[0mgrouper\u001b[0m\u001b[1;33m,\u001b[0m \u001b[0msort\u001b[0m\u001b[1;33m=\u001b[0m\u001b[0mself\u001b[0m\u001b[1;33m.\u001b[0m\u001b[0msort\u001b[0m\u001b[1;33m)\u001b[0m\u001b[1;33m\u001b[0m\u001b[1;33m\u001b[0m\u001b[0m\n\u001b[0m\u001b[0;32m    422\u001b[0m                 \u001b[0muniques\u001b[0m \u001b[1;33m=\u001b[0m \u001b[0mIndex\u001b[0m\u001b[1;33m(\u001b[0m\u001b[0muniques\u001b[0m\u001b[1;33m,\u001b[0m \u001b[0mname\u001b[0m\u001b[1;33m=\u001b[0m\u001b[0mself\u001b[0m\u001b[1;33m.\u001b[0m\u001b[0mname\u001b[0m\u001b[1;33m)\u001b[0m\u001b[1;33m\u001b[0m\u001b[1;33m\u001b[0m\u001b[0m\n\u001b[0;32m    423\u001b[0m             \u001b[0mself\u001b[0m\u001b[1;33m.\u001b[0m\u001b[0m_labels\u001b[0m \u001b[1;33m=\u001b[0m \u001b[0mlabels\u001b[0m\u001b[1;33m\u001b[0m\u001b[1;33m\u001b[0m\u001b[0m\n",
      "\u001b[1;32mD:\\ANACONDA\\lib\\site-packages\\pandas\\util\\_decorators.py\u001b[0m in \u001b[0;36mwrapper\u001b[1;34m(*args, **kwargs)\u001b[0m\n\u001b[0;32m    206\u001b[0m                 \u001b[1;32melse\u001b[0m\u001b[1;33m:\u001b[0m\u001b[1;33m\u001b[0m\u001b[1;33m\u001b[0m\u001b[0m\n\u001b[0;32m    207\u001b[0m                     \u001b[0mkwargs\u001b[0m\u001b[1;33m[\u001b[0m\u001b[0mnew_arg_name\u001b[0m\u001b[1;33m]\u001b[0m \u001b[1;33m=\u001b[0m \u001b[0mnew_arg_value\u001b[0m\u001b[1;33m\u001b[0m\u001b[1;33m\u001b[0m\u001b[0m\n\u001b[1;32m--> 208\u001b[1;33m             \u001b[1;32mreturn\u001b[0m \u001b[0mfunc\u001b[0m\u001b[1;33m(\u001b[0m\u001b[1;33m*\u001b[0m\u001b[0margs\u001b[0m\u001b[1;33m,\u001b[0m \u001b[1;33m**\u001b[0m\u001b[0mkwargs\u001b[0m\u001b[1;33m)\u001b[0m\u001b[1;33m\u001b[0m\u001b[1;33m\u001b[0m\u001b[0m\n\u001b[0m\u001b[0;32m    209\u001b[0m \u001b[1;33m\u001b[0m\u001b[0m\n\u001b[0;32m    210\u001b[0m         \u001b[1;32mreturn\u001b[0m \u001b[0mwrapper\u001b[0m\u001b[1;33m\u001b[0m\u001b[1;33m\u001b[0m\u001b[0m\n",
      "\u001b[1;32mD:\\ANACONDA\\lib\\site-packages\\pandas\\core\\algorithms.py\u001b[0m in \u001b[0;36mfactorize\u001b[1;34m(values, sort, order, na_sentinel, size_hint)\u001b[0m\n\u001b[0;32m    670\u001b[0m \u001b[1;33m\u001b[0m\u001b[0m\n\u001b[0;32m    671\u001b[0m         labels, uniques = _factorize_array(\n\u001b[1;32m--> 672\u001b[1;33m             \u001b[0mvalues\u001b[0m\u001b[1;33m,\u001b[0m \u001b[0mna_sentinel\u001b[0m\u001b[1;33m=\u001b[0m\u001b[0mna_sentinel\u001b[0m\u001b[1;33m,\u001b[0m \u001b[0msize_hint\u001b[0m\u001b[1;33m=\u001b[0m\u001b[0msize_hint\u001b[0m\u001b[1;33m,\u001b[0m \u001b[0mna_value\u001b[0m\u001b[1;33m=\u001b[0m\u001b[0mna_value\u001b[0m\u001b[1;33m\u001b[0m\u001b[1;33m\u001b[0m\u001b[0m\n\u001b[0m\u001b[0;32m    673\u001b[0m         )\n\u001b[0;32m    674\u001b[0m \u001b[1;33m\u001b[0m\u001b[0m\n",
      "\u001b[1;32mD:\\ANACONDA\\lib\\site-packages\\pandas\\core\\algorithms.py\u001b[0m in \u001b[0;36m_factorize_array\u001b[1;34m(values, na_sentinel, size_hint, na_value)\u001b[0m\n\u001b[0;32m    506\u001b[0m     \u001b[0mtable\u001b[0m \u001b[1;33m=\u001b[0m \u001b[0mhash_klass\u001b[0m\u001b[1;33m(\u001b[0m\u001b[0msize_hint\u001b[0m \u001b[1;32mor\u001b[0m \u001b[0mlen\u001b[0m\u001b[1;33m(\u001b[0m\u001b[0mvalues\u001b[0m\u001b[1;33m)\u001b[0m\u001b[1;33m)\u001b[0m\u001b[1;33m\u001b[0m\u001b[1;33m\u001b[0m\u001b[0m\n\u001b[0;32m    507\u001b[0m     uniques, labels = table.factorize(\n\u001b[1;32m--> 508\u001b[1;33m         \u001b[0mvalues\u001b[0m\u001b[1;33m,\u001b[0m \u001b[0mna_sentinel\u001b[0m\u001b[1;33m=\u001b[0m\u001b[0mna_sentinel\u001b[0m\u001b[1;33m,\u001b[0m \u001b[0mna_value\u001b[0m\u001b[1;33m=\u001b[0m\u001b[0mna_value\u001b[0m\u001b[1;33m\u001b[0m\u001b[1;33m\u001b[0m\u001b[0m\n\u001b[0m\u001b[0;32m    509\u001b[0m     )\n\u001b[0;32m    510\u001b[0m \u001b[1;33m\u001b[0m\u001b[0m\n",
      "\u001b[1;32mpandas\\_libs\\hashtable_class_helper.pxi\u001b[0m in \u001b[0;36mpandas._libs.hashtable.StringHashTable.factorize\u001b[1;34m()\u001b[0m\n",
      "\u001b[1;32mpandas\\_libs\\hashtable_class_helper.pxi\u001b[0m in \u001b[0;36mpandas._libs.hashtable.StringHashTable._unique\u001b[1;34m()\u001b[0m\n",
      "\u001b[1;32mD:\\ANACONDA\\lib\\site-packages\\numpy\\core\\numeric.py\u001b[0m in \u001b[0;36masarray\u001b[1;34m(a, dtype, order)\u001b[0m\n\u001b[0;32m    467\u001b[0m \u001b[1;33m\u001b[0m\u001b[0m\n\u001b[0;32m    468\u001b[0m \u001b[1;33m\u001b[0m\u001b[0m\n\u001b[1;32m--> 469\u001b[1;33m \u001b[1;33m@\u001b[0m\u001b[0mset_module\u001b[0m\u001b[1;33m(\u001b[0m\u001b[1;34m'numpy'\u001b[0m\u001b[1;33m)\u001b[0m\u001b[1;33m\u001b[0m\u001b[1;33m\u001b[0m\u001b[0m\n\u001b[0m\u001b[0;32m    470\u001b[0m \u001b[1;32mdef\u001b[0m \u001b[0masarray\u001b[0m\u001b[1;33m(\u001b[0m\u001b[0ma\u001b[0m\u001b[1;33m,\u001b[0m \u001b[0mdtype\u001b[0m\u001b[1;33m=\u001b[0m\u001b[1;32mNone\u001b[0m\u001b[1;33m,\u001b[0m \u001b[0morder\u001b[0m\u001b[1;33m=\u001b[0m\u001b[1;32mNone\u001b[0m\u001b[1;33m)\u001b[0m\u001b[1;33m:\u001b[0m\u001b[1;33m\u001b[0m\u001b[1;33m\u001b[0m\u001b[0m\n\u001b[0;32m    471\u001b[0m     \"\"\"Convert the input to an array.\n",
      "\u001b[1;31mKeyboardInterrupt\u001b[0m: "
     ]
    }
   ],
   "source": [
    "interact(total_probability_finder, sex=sex, size=size, age=age, color=color, breed=breed);"
   ]
  },
  {
   "cell_type": "markdown",
   "metadata": {},
   "source": [
    "The function doesn't work with widgets ---> Check it!"
   ]
  },
  {
   "cell_type": "markdown",
   "metadata": {},
   "source": [
    "## 2 Statistics Analysis (Houses' DF)"
   ]
  },
  {
   "cell_type": "markdown",
   "metadata": {},
   "source": [
    "Provide different statistical test techniques to answer different questions about the Dataset of houses and parks."
   ]
  },
  {
   "cell_type": "raw",
   "metadata": {},
   "source": [
    "- **Confidence Interval** --> Average smq of the houses\n",
    "\n",
    "- **Test normality** --> Average smq of the houses \n",
    "\n",
    "- **Chi-2** --> Percentages of parks/Districts"
   ]
  },
  {
   "cell_type": "markdown",
   "metadata": {},
   "source": [
    "## 2.0 Checker functions"
   ]
  },
  {
   "cell_type": "markdown",
   "metadata": {},
   "source": [
    "### 2.0.1 Significance level"
   ]
  },
  {
   "cell_type": "markdown",
   "metadata": {},
   "source": [
    "A **significance level**, also known as **alpha** or **α**, defines how strongly the sample evidence must contradict the null hypothesis before you can reject the null hypothesis for the entire population."
   ]
  },
  {
   "cell_type": "code",
   "execution_count": 42,
   "metadata": {},
   "outputs": [],
   "source": [
    "alpha = 0.05"
   ]
  },
  {
   "cell_type": "code",
   "execution_count": 43,
   "metadata": {},
   "outputs": [],
   "source": [
    "def hyp_checker(pvalue):\n",
    "    \n",
    "    '''\n",
    "    Defining a hypothesis checker function\n",
    "    '''\n",
    "    \n",
    "    if pvalue <= alpha:\n",
    "        return f'The value {pvalue} is smaller than our alpha {alpha}. H0 is rejected'\n",
    "    else:\n",
    "        return f'The value {pvalue} is bigger than our alpha {alpha}. Fail to reject H0'"
   ]
  },
  {
   "cell_type": "markdown",
   "metadata": {},
   "source": [
    "### 2.0.2 Type of test"
   ]
  },
  {
   "cell_type": "code",
   "execution_count": 44,
   "metadata": {},
   "outputs": [],
   "source": [
    "def test_detector(n):\n",
    "    \n",
    "    '''\n",
    "    Function to find which kind of test we have to use based on the size of the sample.\n",
    "    '''\n",
    "    \n",
    "    if n>30:\n",
    "        test_par = 'z-test'\n",
    "        print(f'The sample size is {n} > 30. We can use the {test_par}!')\n",
    "    else:\n",
    "        test_par = 'z-test'\n",
    "        print(f'The sample size is {n} < 30. We can use the {test_par}!')"
   ]
  },
  {
   "cell_type": "markdown",
   "metadata": {},
   "source": [
    "### 2.0.3 Test normality"
   ]
  },
  {
   "cell_type": "code",
   "execution_count": 45,
   "metadata": {},
   "outputs": [],
   "source": [
    "# normal_checker_mult(num_houses,districts, houses_avg_sqm_bcn, stats_houses['Distrito'],alpha)"
   ]
  },
  {
   "cell_type": "markdown",
   "metadata": {},
   "source": [
    "#### Population"
   ]
  },
  {
   "cell_type": "code",
   "execution_count": 46,
   "metadata": {},
   "outputs": [],
   "source": [
    "def normal_checker_one(n,function,alpha):\n",
    "    \n",
    "    '''\n",
    "    Defining a normal distribution checker function\n",
    "    \n",
    "    The Shapiro-Wilk test tests the null hypothesis that the data was drawn from a normal distribution.\n",
    "    \n",
    "    The normal test is based on D’Agostino and Pearson’s test that combines skew and kurtosis to produce an omnibus test of normality.\n",
    "    '''\n",
    "    if n <= 5000:\n",
    "        stat, p = stats.shapiro(function)\n",
    "        return f\"p-value may not be accurate for N > 5000. Shapiro doesn't work!\"\n",
    "        \n",
    "    else:\n",
    "        stat, p = stats.normaltest(function)\n",
    "        if p < alpha:\n",
    "            return f'p-value {round(p,5)} is smaller than alpha {alpha}. H0 is rejected --> H0 is rejected --> NOT normal distribution (NOT parametric HT)'\n",
    "        \n",
    "        else:\n",
    "            return f'p-value {round(p,5)} is bigger than alpha {alpha}. Fail to reject H0 --> Normal distribution (Parametric HT)'"
   ]
  },
  {
   "cell_type": "code",
   "execution_count": 47,
   "metadata": {},
   "outputs": [],
   "source": [
    "# normal_checker_one(num_houses,houses_avg_sqm_bcn,alpha)"
   ]
  },
  {
   "cell_type": "markdown",
   "metadata": {},
   "source": [
    "#### Samples (Districts)"
   ]
  },
  {
   "cell_type": "code",
   "execution_count": 48,
   "metadata": {},
   "outputs": [],
   "source": [
    "def normal_checker_mult(n, group, df_col, df_filtered,alpha):\n",
    "    \n",
    "    '''\n",
    "    Defining a normal distribution checker function\n",
    "    \n",
    "    The Shapiro-Wilk test tests the null hypothesis that the data was drawn from a normal distribution.\n",
    "    \n",
    "    The normal test is based on D’Agostino and Pearson’s test that combines skew and kurtosis to produce an omnibus test of normality.\n",
    "    '''\n",
    "    \n",
    "    for x in group:\n",
    "        \n",
    "        group_filter = df_col.loc[df_filtered == x]\n",
    "        \n",
    "        if n <= 5000:\n",
    "            stat, p = stats.shapiro(group_filter)\n",
    "            return f\"p-value may not be accurate for N > 5000. Shapiro doesn't work!\"\n",
    "\n",
    "        else:\n",
    "            stat, p = stats.normaltest(group_filter)\n",
    "            if p < alpha:\n",
    "                print (f'p-value {round(p,5)} for {x} is smaller than alpha {alpha}. H0 is rejected --> NOT normal distribution (NOT parametric HT)')\n",
    "\n",
    "            else:\n",
    "                print (f'p-value {round(p,5)} for {x} is bigger than alpha {alpha}. Fail to reject H0 --> Normal distribution (Parametric HT)') "
   ]
  },
  {
   "cell_type": "code",
   "execution_count": 49,
   "metadata": {},
   "outputs": [],
   "source": [
    "#  normal_checker_mult(num_houses,districts, houses_avg_sqm_bcn, stats_houses['Distrito'],alpha)"
   ]
  },
  {
   "cell_type": "markdown",
   "metadata": {},
   "source": [
    "### 2.0.5 District finder"
   ]
  },
  {
   "cell_type": "code",
   "execution_count": 50,
   "metadata": {},
   "outputs": [],
   "source": [
    "def group_finder(group, df_col, df_filtered, alpha):\n",
    "\n",
    "    '''\n",
    "    Find a variable based on the district\n",
    "    '''\n",
    "    \n",
    "    confidence = 1 - alpha\n",
    "    \n",
    "    # Columns of the Dataframe\n",
    "    col_inf=[]\n",
    "    col_sup=[]\n",
    "    col_name=[]\n",
    "    \n",
    "    for x in group:\n",
    "        \n",
    "        group_filter = df_col.loc[df_filtered == x]\n",
    "\n",
    "        # Statistics parameters\n",
    "        mean = group_filter.mean()\n",
    "        std = np.std(group_filter)\n",
    "        # Code to improve! change the type of test based on types of variables and distribution\n",
    "        t = stats.t.interval(confidence, ((len(group_filter))-1))[1]\n",
    "\n",
    "        # Interval\n",
    "        i = (mean - t*(std/math.sqrt(len(group_filter)))).round(2)\n",
    "        s = (mean + t*(std/math.sqrt(len(group_filter)))).round(2)\n",
    "        \n",
    "        \n",
    "        # Lists of rows\n",
    "        col_inf.append(i)\n",
    "        col_sup.append(s)\n",
    "        col_name.append(x)\n",
    "        \n",
    "        \n",
    "        # Create a Dataframe\n",
    "        groups_df = pd.DataFrame({'Distrito': col_name, 'CI-lim_inf': col_inf, 'CI-lim_sup': col_sup})\n",
    "        \n",
    "    return groups_df"
   ]
  },
  {
   "cell_type": "code",
   "execution_count": 51,
   "metadata": {},
   "outputs": [],
   "source": [
    "# group_finder(districts, houses_avg_sqm_bcn, stats_houses['Distrito'], alpha)"
   ]
  },
  {
   "cell_type": "markdown",
   "metadata": {},
   "source": [
    "### 2.0.6 Distribution by group"
   ]
  },
  {
   "cell_type": "code",
   "execution_count": 52,
   "metadata": {},
   "outputs": [],
   "source": [
    "def group_distribution(group, df_col, df_filtered):\n",
    "    \n",
    "    for x in group:\n",
    "        group_filter = df_col.loc[df_filtered == x]\n",
    "        sns.distplot(group_filter)\n",
    "    plt.show();"
   ]
  },
  {
   "cell_type": "code",
   "execution_count": 53,
   "metadata": {},
   "outputs": [],
   "source": [
    "# group_distribution(districts, houses_avg_sqm_bcn, stats_houses['Distrito'])"
   ]
  },
  {
   "cell_type": "code",
   "execution_count": 54,
   "metadata": {},
   "outputs": [],
   "source": [
    "# sns.figsize()"
   ]
  },
  {
   "cell_type": "markdown",
   "metadata": {},
   "source": [
    "## 2.1 Average Surface of the houses"
   ]
  },
  {
   "cell_type": "markdown",
   "metadata": {},
   "source": [
    "## Confidence Intervals and Test Normality"
   ]
  },
  {
   "cell_type": "markdown",
   "metadata": {},
   "source": [
    "### 2.1.0 EDA"
   ]
  },
  {
   "cell_type": "code",
   "execution_count": 55,
   "metadata": {},
   "outputs": [],
   "source": [
    "# Share data between Jupyter Notebooks\n",
    "%store -r houses"
   ]
  },
  {
   "cell_type": "code",
   "execution_count": 56,
   "metadata": {},
   "outputs": [],
   "source": [
    "stats_houses = pd.read_csv('output-data cleaning/'+houses)"
   ]
  },
  {
   "cell_type": "code",
   "execution_count": 57,
   "metadata": {},
   "outputs": [
    {
     "data": {
      "text/html": [
       "<div>\n",
       "<style scoped>\n",
       "    .dataframe tbody tr th:only-of-type {\n",
       "        vertical-align: middle;\n",
       "    }\n",
       "\n",
       "    .dataframe tbody tr th {\n",
       "        vertical-align: top;\n",
       "    }\n",
       "\n",
       "    .dataframe thead th {\n",
       "        text-align: right;\n",
       "    }\n",
       "</style>\n",
       "<table border=\"1\" class=\"dataframe\">\n",
       "  <thead>\n",
       "    <tr style=\"text-align: right;\">\n",
       "      <th></th>\n",
       "      <th>Distrito</th>\n",
       "      <th>Parque</th>\n",
       "      <th>Superficie parque (mq)</th>\n",
       "      <th>Barrio</th>\n",
       "      <th>Superficie media casa (mq)</th>\n",
       "    </tr>\n",
       "  </thead>\n",
       "  <tbody>\n",
       "    <tr>\n",
       "      <td>0</td>\n",
       "      <td>Ciutat Vella</td>\n",
       "      <td>Parc de la Ciutadella</td>\n",
       "      <td>1</td>\n",
       "      <td>el Raval</td>\n",
       "      <td>58.9</td>\n",
       "    </tr>\n",
       "    <tr>\n",
       "      <td>1</td>\n",
       "      <td>Ciutat Vella</td>\n",
       "      <td>Parc de la Ciutadella</td>\n",
       "      <td>1</td>\n",
       "      <td>el Barrio Gótico</td>\n",
       "      <td>84.9</td>\n",
       "    </tr>\n",
       "    <tr>\n",
       "      <td>2</td>\n",
       "      <td>Ciutat Vella</td>\n",
       "      <td>Parc de la Ciutadella</td>\n",
       "      <td>1</td>\n",
       "      <td>la Barceloneta</td>\n",
       "      <td>45.7</td>\n",
       "    </tr>\n",
       "    <tr>\n",
       "      <td>3</td>\n",
       "      <td>Ciutat Vella</td>\n",
       "      <td>Parc de la Ciutadella</td>\n",
       "      <td>1</td>\n",
       "      <td>San Pedro, Santa Caterina y la Ribera</td>\n",
       "      <td>65.3</td>\n",
       "    </tr>\n",
       "    <tr>\n",
       "      <td>4</td>\n",
       "      <td>Ciutat Vella</td>\n",
       "      <td>Parc de la Ciutadella</td>\n",
       "      <td>1</td>\n",
       "      <td>el Raval</td>\n",
       "      <td>59.6</td>\n",
       "    </tr>\n",
       "    <tr>\n",
       "      <td>5</td>\n",
       "      <td>Ciutat Vella</td>\n",
       "      <td>Parc de la Ciutadella</td>\n",
       "      <td>1</td>\n",
       "      <td>el Barrio Gótico</td>\n",
       "      <td>98.2</td>\n",
       "    </tr>\n",
       "    <tr>\n",
       "      <td>6</td>\n",
       "      <td>Ciutat Vella</td>\n",
       "      <td>Parc de la Ciutadella</td>\n",
       "      <td>1</td>\n",
       "      <td>la Barceloneta</td>\n",
       "      <td>33.0</td>\n",
       "    </tr>\n",
       "    <tr>\n",
       "      <td>7</td>\n",
       "      <td>Ciutat Vella</td>\n",
       "      <td>Parc de la Ciutadella</td>\n",
       "      <td>1</td>\n",
       "      <td>San Pedro, Santa Caterina y la Ribera</td>\n",
       "      <td>111.0</td>\n",
       "    </tr>\n",
       "    <tr>\n",
       "      <td>8</td>\n",
       "      <td>Ciutat Vella</td>\n",
       "      <td>Parc de la Ciutadella</td>\n",
       "      <td>1</td>\n",
       "      <td>el Raval</td>\n",
       "      <td>58.9</td>\n",
       "    </tr>\n",
       "    <tr>\n",
       "      <td>9</td>\n",
       "      <td>Ciutat Vella</td>\n",
       "      <td>Parc de la Ciutadella</td>\n",
       "      <td>1</td>\n",
       "      <td>el Barrio Gótico</td>\n",
       "      <td>78.4</td>\n",
       "    </tr>\n",
       "    <tr>\n",
       "      <td>10</td>\n",
       "      <td>Ciutat Vella</td>\n",
       "      <td>Parc de la Ciutadella</td>\n",
       "      <td>1</td>\n",
       "      <td>la Barceloneta</td>\n",
       "      <td>46.7</td>\n",
       "    </tr>\n",
       "    <tr>\n",
       "      <td>11</td>\n",
       "      <td>Ciutat Vella</td>\n",
       "      <td>Parc de la Ciutadella</td>\n",
       "      <td>1</td>\n",
       "      <td>San Pedro, Santa Caterina y la Ribera</td>\n",
       "      <td>62.7</td>\n",
       "    </tr>\n",
       "    <tr>\n",
       "      <td>12</td>\n",
       "      <td>Ciutat Vella</td>\n",
       "      <td>Parc de la Ciutadella</td>\n",
       "      <td>1</td>\n",
       "      <td>el Raval</td>\n",
       "      <td>56.2</td>\n",
       "    </tr>\n",
       "    <tr>\n",
       "      <td>13</td>\n",
       "      <td>Ciutat Vella</td>\n",
       "      <td>Parc de la Ciutadella</td>\n",
       "      <td>1</td>\n",
       "      <td>el Barrio Gótico</td>\n",
       "      <td>83.6</td>\n",
       "    </tr>\n",
       "    <tr>\n",
       "      <td>14</td>\n",
       "      <td>Ciutat Vella</td>\n",
       "      <td>Parc de la Ciutadella</td>\n",
       "      <td>1</td>\n",
       "      <td>la Barceloneta</td>\n",
       "      <td>48.2</td>\n",
       "    </tr>\n",
       "    <tr>\n",
       "      <td>15</td>\n",
       "      <td>Ciutat Vella</td>\n",
       "      <td>Parc de la Ciutadella</td>\n",
       "      <td>1</td>\n",
       "      <td>San Pedro, Santa Caterina y la Ribera</td>\n",
       "      <td>67.7</td>\n",
       "    </tr>\n",
       "    <tr>\n",
       "      <td>16</td>\n",
       "      <td>Ciutat Vella</td>\n",
       "      <td>Parc de la Ciutadella</td>\n",
       "      <td>1</td>\n",
       "      <td>el Raval</td>\n",
       "      <td>50.0</td>\n",
       "    </tr>\n",
       "    <tr>\n",
       "      <td>17</td>\n",
       "      <td>Ciutat Vella</td>\n",
       "      <td>Parc de la Ciutadella</td>\n",
       "      <td>1</td>\n",
       "      <td>el Barrio Gótico</td>\n",
       "      <td>74.8</td>\n",
       "    </tr>\n",
       "    <tr>\n",
       "      <td>18</td>\n",
       "      <td>Ciutat Vella</td>\n",
       "      <td>Parc de la Ciutadella</td>\n",
       "      <td>1</td>\n",
       "      <td>la Barceloneta</td>\n",
       "      <td>30.5</td>\n",
       "    </tr>\n",
       "    <tr>\n",
       "      <td>19</td>\n",
       "      <td>Ciutat Vella</td>\n",
       "      <td>Parc de la Ciutadella</td>\n",
       "      <td>1</td>\n",
       "      <td>San Pedro, Santa Caterina y la Ribera</td>\n",
       "      <td>102.8</td>\n",
       "    </tr>\n",
       "  </tbody>\n",
       "</table>\n",
       "</div>"
      ],
      "text/plain": [
       "        Distrito                 Parque  Superficie parque (mq)                                 Barrio  Superficie media casa (mq)\n",
       "0   Ciutat Vella  Parc de la Ciutadella  1                       el Raval                               58.9                      \n",
       "1   Ciutat Vella  Parc de la Ciutadella  1                       el Barrio Gótico                       84.9                      \n",
       "2   Ciutat Vella  Parc de la Ciutadella  1                       la Barceloneta                         45.7                      \n",
       "3   Ciutat Vella  Parc de la Ciutadella  1                       San Pedro, Santa Caterina y la Ribera  65.3                      \n",
       "4   Ciutat Vella  Parc de la Ciutadella  1                       el Raval                               59.6                      \n",
       "5   Ciutat Vella  Parc de la Ciutadella  1                       el Barrio Gótico                       98.2                      \n",
       "6   Ciutat Vella  Parc de la Ciutadella  1                       la Barceloneta                         33.0                      \n",
       "7   Ciutat Vella  Parc de la Ciutadella  1                       San Pedro, Santa Caterina y la Ribera  111.0                     \n",
       "8   Ciutat Vella  Parc de la Ciutadella  1                       el Raval                               58.9                      \n",
       "9   Ciutat Vella  Parc de la Ciutadella  1                       el Barrio Gótico                       78.4                      \n",
       "10  Ciutat Vella  Parc de la Ciutadella  1                       la Barceloneta                         46.7                      \n",
       "11  Ciutat Vella  Parc de la Ciutadella  1                       San Pedro, Santa Caterina y la Ribera  62.7                      \n",
       "12  Ciutat Vella  Parc de la Ciutadella  1                       el Raval                               56.2                      \n",
       "13  Ciutat Vella  Parc de la Ciutadella  1                       el Barrio Gótico                       83.6                      \n",
       "14  Ciutat Vella  Parc de la Ciutadella  1                       la Barceloneta                         48.2                      \n",
       "15  Ciutat Vella  Parc de la Ciutadella  1                       San Pedro, Santa Caterina y la Ribera  67.7                      \n",
       "16  Ciutat Vella  Parc de la Ciutadella  1                       el Raval                               50.0                      \n",
       "17  Ciutat Vella  Parc de la Ciutadella  1                       el Barrio Gótico                       74.8                      \n",
       "18  Ciutat Vella  Parc de la Ciutadella  1                       la Barceloneta                         30.5                      \n",
       "19  Ciutat Vella  Parc de la Ciutadella  1                       San Pedro, Santa Caterina y la Ribera  102.8                     "
      ]
     },
     "execution_count": 57,
     "metadata": {},
     "output_type": "execute_result"
    }
   ],
   "source": [
    "stats_houses.head(20)"
   ]
  },
  {
   "cell_type": "code",
   "execution_count": 58,
   "metadata": {},
   "outputs": [],
   "source": [
    "num_houses=stats_houses.shape[0]"
   ]
  },
  {
   "cell_type": "code",
   "execution_count": 59,
   "metadata": {},
   "outputs": [
    {
     "name": "stdout",
     "output_type": "stream",
     "text": [
      "We have the information of about 8004 houses and parks in the dataset.\n"
     ]
    }
   ],
   "source": [
    "print(f'We have the information of about {num_houses} houses and parks in the dataset.')"
   ]
  },
  {
   "cell_type": "markdown",
   "metadata": {},
   "source": [
    "### 2.1.1 Variable types"
   ]
  },
  {
   "cell_type": "markdown",
   "metadata": {},
   "source": [
    "### Numerical values"
   ]
  },
  {
   "cell_type": "code",
   "execution_count": 60,
   "metadata": {},
   "outputs": [
    {
     "data": {
      "text/plain": [
       "Index(['Superficie parque (mq)', 'Superficie media casa (mq)'], dtype='object')"
      ]
     },
     "execution_count": 60,
     "metadata": {},
     "output_type": "execute_result"
    }
   ],
   "source": [
    "houses_cat = stats_houses.select_dtypes(include='number')\n",
    "houses_cat.columns"
   ]
  },
  {
   "cell_type": "markdown",
   "metadata": {},
   "source": [
    "### Categorical values"
   ]
  },
  {
   "cell_type": "code",
   "execution_count": 61,
   "metadata": {},
   "outputs": [
    {
     "data": {
      "text/plain": [
       "Index(['Distrito', 'Parque', 'Barrio'], dtype='object')"
      ]
     },
     "execution_count": 61,
     "metadata": {},
     "output_type": "execute_result"
    }
   ],
   "source": [
    "houses_cat = stats_houses.select_dtypes(exclude='number')\n",
    "houses_cat.columns"
   ]
  },
  {
   "cell_type": "markdown",
   "metadata": {},
   "source": [
    "### 2.1.2 Analysis population"
   ]
  },
  {
   "cell_type": "code",
   "execution_count": 62,
   "metadata": {},
   "outputs": [],
   "source": [
    "houses_avgsqm_bcn = stats_houses['Superficie media casa (mq)']"
   ]
  },
  {
   "cell_type": "code",
   "execution_count": 63,
   "metadata": {},
   "outputs": [
    {
     "name": "stdout",
     "output_type": "stream",
     "text": [
      "The city the Barcelona has 10 districts\n",
      "Statistics data the average sqms of the houses/flats of the city of Barcelona\n",
      "Mean sqms houses/flats: 81.87 sqms\n",
      "Median sqms houses/flats: 74.4 sqms\n"
     ]
    }
   ],
   "source": [
    "print(f'The city the Barcelona has {len(houses_cat.Distrito.unique())} districts')\n",
    "print(f'Statistics data the average sqms of the houses/flats of the city of Barcelona')\n",
    "print(f\"Mean sqms houses/flats: {round(houses_avgsqm_bcn.mean(),2)} sqms\")\n",
    "print(f\"Median sqms houses/flats: {round(houses_avgsqm_bcn.median(),2)} sqms\")      "
   ]
  },
  {
   "cell_type": "markdown",
   "metadata": {},
   "source": [
    "### Distribution average smq of the houses/flats of the city of Barcelona"
   ]
  },
  {
   "cell_type": "code",
   "execution_count": 64,
   "metadata": {},
   "outputs": [
    {
     "data": {
      "image/png": "[encoded data removed]",
      "text/plain": [
       "<Figure size 432x288 with 1 Axes>"
      ]
     },
     "metadata": {
      "needs_background": "light"
     },
     "output_type": "display_data"
    }
   ],
   "source": [
    "sns.distplot(houses_avgsqm_bcn);"
   ]
  },
  {
   "cell_type": "markdown",
   "metadata": {},
   "source": [
    "We don't need a test of normality to prove the normality of the curve but we do it anyway ;)"
   ]
  },
  {
   "cell_type": "markdown",
   "metadata": {},
   "source": [
    "### Test normality"
   ]
  },
  {
   "cell_type": "code",
   "execution_count": 65,
   "metadata": {},
   "outputs": [],
   "source": [
    "houses_avg_sqm_bcn=stats_houses['Superficie media casa (mq)']\n",
    "# houses_avg_sqm_bcn"
   ]
  },
  {
   "cell_type": "code",
   "execution_count": 66,
   "metadata": {},
   "outputs": [
    {
     "data": {
      "text/plain": [
       "'p-value 0.0 is smaller than alpha 0.05. H0 is rejected --> H0 is rejected --> NOT normal distribution (NOT parametric HT)'"
      ]
     },
     "execution_count": 66,
     "metadata": {},
     "output_type": "execute_result"
    }
   ],
   "source": [
    "normal_checker_one(num_houses,houses_avg_sqm_bcn,alpha)"
   ]
  },
  {
   "cell_type": "markdown",
   "metadata": {},
   "source": [
    "### Conclusion"
   ]
  },
  {
   "cell_type": "markdown",
   "metadata": {},
   "source": [
    "We can see that the distribution is **skewed right** (or **positively skewed**) --> NOT normally distributed!"
   ]
  },
  {
   "cell_type": "markdown",
   "metadata": {},
   "source": [
    "### 2.1.3 Analysis grouping by District"
   ]
  },
  {
   "cell_type": "code",
   "execution_count": 67,
   "metadata": {},
   "outputs": [],
   "source": [
    "districts = stats_houses['Distrito'].unique()\n",
    "# districts"
   ]
  },
  {
   "cell_type": "code",
   "execution_count": 68,
   "metadata": {},
   "outputs": [
    {
     "name": "stdout",
     "output_type": "stream",
     "text": [
      "Statistics data the average sqms of the houses/flats of the city of Barcelona by districts\n",
      "------------------------------------------------------------------------------------------\n",
      "Mean sqms houses/flats por districts: \n",
      "Distrito\n",
      "Ciutat Vella           68.13 \n",
      "Gràcia                 79.44 \n",
      "Horta-Guinardó         70.61 \n",
      "Les Corts              108.76\n",
      "Nou Barris             65.95 \n",
      "Sant Andreu            75.38 \n",
      "Sant Martí             80.76 \n",
      "Sants-Montjuïc         69.61 \n",
      "Sarrià-Sant Gervasi    115.96\n",
      "l’Eixample             89.73 \n",
      "Name: Superficie media casa (mq), dtype: float64\n",
      "------------------------------------------------------------------------------------------\n",
      "Median sqms houses/flats por districts: \n",
      "Distrito\n",
      "Ciutat Vella           62.80 \n",
      "Gràcia                 80.20 \n",
      "Horta-Guinardó         69.35 \n",
      "Les Corts              88.00 \n",
      "Nou Barris             64.85 \n",
      "Sant Andreu            72.70 \n",
      "Sant Martí             77.15 \n",
      "Sants-Montjuïc         67.25 \n",
      "Sarrià-Sant Gervasi    114.15\n",
      "l’Eixample             81.70 \n",
      "Name: Superficie media casa (mq), dtype: float64\n"
     ]
    }
   ],
   "source": [
    "print(f'Statistics data the average sqms of the houses/flats of the city of Barcelona by districts')\n",
    "print('-'*90)\n",
    "print(f\"Mean sqms houses/flats por districts: \")\n",
    "print(f\"{round(stats_houses.groupby('Distrito')['Superficie media casa (mq)'].mean(),2)}\")      \n",
    "print('-'*90 )\n",
    "print(f\"Median sqms houses/flats por districts: \")\n",
    "print(f\"{round(stats_houses.groupby('Distrito')['Superficie media casa (mq)'].median(),2)}\") "
   ]
  },
  {
   "cell_type": "markdown",
   "metadata": {},
   "source": [
    "### Distribution average smq of the houses/flats by district"
   ]
  },
  {
   "cell_type": "code",
   "execution_count": 69,
   "metadata": {},
   "outputs": [
    {
     "data": {
      "image/png": "[encoded data removed]",
      "text/plain": [
       "<Figure size 432x288 with 1 Axes>"
      ]
     },
     "metadata": {
      "needs_background": "light"
     },
     "output_type": "display_data"
    }
   ],
   "source": [
    "group_distribution(districts, houses_avg_sqm_bcn, stats_houses['Distrito'])"
   ]
  },
  {
   "cell_type": "markdown",
   "metadata": {},
   "source": [
    "We can see that the distribution is NOT normally distributed, generally is skewed right (or positively skewed)."
   ]
  },
  {
   "cell_type": "markdown",
   "metadata": {},
   "source": [
    "### Test normality by district"
   ]
  },
  {
   "cell_type": "code",
   "execution_count": 70,
   "metadata": {},
   "outputs": [
    {
     "name": "stdout",
     "output_type": "stream",
     "text": [
      "p-value 0.00162 for Ciutat Vella is smaller than alpha 0.05. H0 is rejected --> NOT normal distribution (NOT parametric HT)\n",
      "p-value 0.0 for l’Eixample is smaller than alpha 0.05. H0 is rejected --> NOT normal distribution (NOT parametric HT)\n",
      "p-value 0.0 for Gràcia is smaller than alpha 0.05. H0 is rejected --> NOT normal distribution (NOT parametric HT)\n",
      "p-value 0.0 for Horta-Guinardó is smaller than alpha 0.05. H0 is rejected --> NOT normal distribution (NOT parametric HT)\n",
      "p-value 0.0 for Les Corts is smaller than alpha 0.05. H0 is rejected --> NOT normal distribution (NOT parametric HT)\n",
      "p-value 0.0 for Nou Barris is smaller than alpha 0.05. H0 is rejected --> NOT normal distribution (NOT parametric HT)\n",
      "p-value 0.0 for Sant Andreu is smaller than alpha 0.05. H0 is rejected --> NOT normal distribution (NOT parametric HT)\n",
      "p-value 0.0 for Sant Martí is smaller than alpha 0.05. H0 is rejected --> NOT normal distribution (NOT parametric HT)\n",
      "p-value 0.0 for Sants-Montjuïc is smaller than alpha 0.05. H0 is rejected --> NOT normal distribution (NOT parametric HT)\n",
      "p-value 0.0 for Sarrià-Sant Gervasi is smaller than alpha 0.05. H0 is rejected --> NOT normal distribution (NOT parametric HT)\n"
     ]
    }
   ],
   "source": [
    "normal_checker_mult(num_houses,districts, houses_avg_sqm_bcn, stats_houses['Distrito'],alpha)"
   ]
  },
  {
   "cell_type": "markdown",
   "metadata": {},
   "source": [
    "### Conclusion"
   ]
  },
  {
   "cell_type": "markdown",
   "metadata": {},
   "source": [
    "We can see that the distributions for district are generally **skewed right** (or **positively skewed**) --> NOT normally distributed!"
   ]
  },
  {
   "cell_type": "markdown",
   "metadata": {},
   "source": [
    "### Confidence interval"
   ]
  },
  {
   "cell_type": "markdown",
   "metadata": {},
   "source": [
    "We want to know a **range of plausible values** of the houses'/flats **average dimensions**  divided by **district**."
   ]
  },
  {
   "cell_type": "code",
   "execution_count": 71,
   "metadata": {},
   "outputs": [
    {
     "data": {
      "text/html": [
       "<div>\n",
       "<style scoped>\n",
       "    .dataframe tbody tr th:only-of-type {\n",
       "        vertical-align: middle;\n",
       "    }\n",
       "\n",
       "    .dataframe tbody tr th {\n",
       "        vertical-align: top;\n",
       "    }\n",
       "\n",
       "    .dataframe thead th {\n",
       "        text-align: right;\n",
       "    }\n",
       "</style>\n",
       "<table border=\"1\" class=\"dataframe\">\n",
       "  <thead>\n",
       "    <tr style=\"text-align: right;\">\n",
       "      <th></th>\n",
       "      <th>Distrito</th>\n",
       "      <th>CI-lim_inf</th>\n",
       "      <th>CI-lim_sup</th>\n",
       "    </tr>\n",
       "  </thead>\n",
       "  <tbody>\n",
       "    <tr>\n",
       "      <td>0</td>\n",
       "      <td>Ciutat Vella</td>\n",
       "      <td>64.37</td>\n",
       "      <td>71.89</td>\n",
       "    </tr>\n",
       "    <tr>\n",
       "      <td>1</td>\n",
       "      <td>l’Eixample</td>\n",
       "      <td>87.32</td>\n",
       "      <td>92.13</td>\n",
       "    </tr>\n",
       "    <tr>\n",
       "      <td>2</td>\n",
       "      <td>Gràcia</td>\n",
       "      <td>78.05</td>\n",
       "      <td>80.84</td>\n",
       "    </tr>\n",
       "    <tr>\n",
       "      <td>3</td>\n",
       "      <td>Horta-Guinardó</td>\n",
       "      <td>69.91</td>\n",
       "      <td>71.30</td>\n",
       "    </tr>\n",
       "    <tr>\n",
       "      <td>4</td>\n",
       "      <td>Les Corts</td>\n",
       "      <td>104.55</td>\n",
       "      <td>112.96</td>\n",
       "    </tr>\n",
       "    <tr>\n",
       "      <td>5</td>\n",
       "      <td>Nou Barris</td>\n",
       "      <td>65.19</td>\n",
       "      <td>66.70</td>\n",
       "    </tr>\n",
       "    <tr>\n",
       "      <td>6</td>\n",
       "      <td>Sant Andreu</td>\n",
       "      <td>74.80</td>\n",
       "      <td>75.97</td>\n",
       "    </tr>\n",
       "    <tr>\n",
       "      <td>7</td>\n",
       "      <td>Sant Martí</td>\n",
       "      <td>79.79</td>\n",
       "      <td>81.74</td>\n",
       "    </tr>\n",
       "    <tr>\n",
       "      <td>8</td>\n",
       "      <td>Sants-Montjuïc</td>\n",
       "      <td>68.78</td>\n",
       "      <td>70.43</td>\n",
       "    </tr>\n",
       "    <tr>\n",
       "      <td>9</td>\n",
       "      <td>Sarrià-Sant Gervasi</td>\n",
       "      <td>114.38</td>\n",
       "      <td>117.55</td>\n",
       "    </tr>\n",
       "  </tbody>\n",
       "</table>\n",
       "</div>"
      ],
      "text/plain": [
       "              Distrito  CI-lim_inf  CI-lim_sup\n",
       "0  Ciutat Vella         64.37       71.89     \n",
       "1  l’Eixample           87.32       92.13     \n",
       "2  Gràcia               78.05       80.84     \n",
       "3  Horta-Guinardó       69.91       71.30     \n",
       "4  Les Corts            104.55      112.96    \n",
       "5  Nou Barris           65.19       66.70     \n",
       "6  Sant Andreu          74.80       75.97     \n",
       "7  Sant Martí           79.79       81.74     \n",
       "8  Sants-Montjuïc       68.78       70.43     \n",
       "9  Sarrià-Sant Gervasi  114.38      117.55    "
      ]
     },
     "execution_count": 71,
     "metadata": {},
     "output_type": "execute_result"
    }
   ],
   "source": [
    "df_CI=group_finder(districts, houses_avg_sqm_bcn, stats_houses['Distrito'], alpha)\n",
    "df_CI"
   ]
  },
  {
   "cell_type": "code",
   "execution_count": 72,
   "metadata": {},
   "outputs": [],
   "source": [
    "df_CI['avg_size_place'] = (df_CI['CI-lim_inf']+df_CI['CI-lim_sup'])/2"
   ]
  },
  {
   "cell_type": "code",
   "execution_count": 73,
   "metadata": {},
   "outputs": [],
   "source": [
    "min_size_place=df_CI['avg_size_place'].min()\n",
    "max_size_place=df_CI['avg_size_place'].max()"
   ]
  },
  {
   "cell_type": "code",
   "execution_count": 74,
   "metadata": {},
   "outputs": [
    {
     "name": "stdout",
     "output_type": "stream",
     "text": [
      "Min average surface/district: 65.945 mq\n",
      "Max average surface/district: 115.965 mq\n"
     ]
    }
   ],
   "source": [
    "print(f'Min average surface/district: {min_size_place} mq')\n",
    "print(f'Max average surface/district: {max_size_place} mq')"
   ]
  },
  {
   "cell_type": "markdown",
   "metadata": {},
   "source": [
    "## 2.2 Percentage parks/ districts"
   ]
  },
  {
   "cell_type": "markdown",
   "metadata": {},
   "source": [
    "## Chi-Square"
   ]
  },
  {
   "cell_type": "markdown",
   "metadata": {},
   "source": [
    "- Categorical variables vs categorical variables\n",
    "- Independent sample"
   ]
  },
  {
   "cell_type": "markdown",
   "metadata": {},
   "source": [
    "### Hypothesis Test "
   ]
  },
  {
   "cell_type": "markdown",
   "metadata": {},
   "source": [
    "**Null Hypothesis** (**H0**) — The percentage of green areas for each district of Barcelona is the same.\n",
    "\n",
    "**Alternative Hypothesis** (**H1**) — The percentage of green areas for each district of Barcelona is NOT the same."
   ]
  },
  {
   "cell_type": "markdown",
   "metadata": {},
   "source": [
    "### 2.2.1 Parks of the city of Barcelona"
   ]
  },
  {
   "cell_type": "code",
   "execution_count": 75,
   "metadata": {},
   "outputs": [],
   "source": [
    "# Share data between Jupyter Notebooks\n",
    "%store -r dogs_parks"
   ]
  },
  {
   "cell_type": "code",
   "execution_count": 76,
   "metadata": {},
   "outputs": [],
   "source": [
    "parks_districts = pd.read_csv('input/'+dogs_parks)"
   ]
  },
  {
   "cell_type": "code",
   "execution_count": 77,
   "metadata": {},
   "outputs": [
    {
     "data": {
      "text/html": [
       "<div>\n",
       "<style scoped>\n",
       "    .dataframe tbody tr th:only-of-type {\n",
       "        vertical-align: middle;\n",
       "    }\n",
       "\n",
       "    .dataframe tbody tr th {\n",
       "        vertical-align: top;\n",
       "    }\n",
       "\n",
       "    .dataframe thead th {\n",
       "        text-align: right;\n",
       "    }\n",
       "</style>\n",
       "<table border=\"1\" class=\"dataframe\">\n",
       "  <thead>\n",
       "    <tr style=\"text-align: right;\">\n",
       "      <th></th>\n",
       "      <th>Distritos</th>\n",
       "      <th>Dirección</th>\n",
       "      <th>Superficie (m2)</th>\n",
       "    </tr>\n",
       "  </thead>\n",
       "  <tbody>\n",
       "    <tr>\n",
       "      <td>0</td>\n",
       "      <td>Ciutat Vella</td>\n",
       "      <td>Parc de la Ciutadella</td>\n",
       "      <td>287</td>\n",
       "    </tr>\n",
       "    <tr>\n",
       "      <td>1</td>\n",
       "      <td>Ciutat Vella</td>\n",
       "      <td>Parc de la Barceloneta</td>\n",
       "      <td>451</td>\n",
       "    </tr>\n",
       "    <tr>\n",
       "      <td>2</td>\n",
       "      <td>Ciutat Vella</td>\n",
       "      <td>Jardins de Sant Pau del Camp</td>\n",
       "      <td>227</td>\n",
       "    </tr>\n",
       "    <tr>\n",
       "      <td>3</td>\n",
       "      <td>l’Eixample</td>\n",
       "      <td>Jardins Montserrat</td>\n",
       "      <td>38</td>\n",
       "    </tr>\n",
       "    <tr>\n",
       "      <td>4</td>\n",
       "      <td>l’Eixample</td>\n",
       "      <td>Pl. Doctor Letamendi</td>\n",
       "      <td>8</td>\n",
       "    </tr>\n",
       "  </tbody>\n",
       "</table>\n",
       "</div>"
      ],
      "text/plain": [
       "      Distritos                     Dirección Superficie (m2)\n",
       "0  Ciutat Vella  Parc de la Ciutadella         287           \n",
       "1  Ciutat Vella  Parc de la Barceloneta        451           \n",
       "2  Ciutat Vella  Jardins de Sant Pau del Camp  227           \n",
       "3  l’Eixample    Jardins Montserrat            38            \n",
       "4  l’Eixample    Pl. Doctor Letamendi          8             "
      ]
     },
     "execution_count": 77,
     "metadata": {},
     "output_type": "execute_result"
    }
   ],
   "source": [
    "parks_districts.head()"
   ]
  },
  {
   "cell_type": "code",
   "execution_count": 78,
   "metadata": {},
   "outputs": [
    {
     "name": "stdout",
     "output_type": "stream",
     "text": [
      "<class 'pandas.core.frame.DataFrame'>\n",
      "RangeIndex: 105 entries, 0 to 104\n",
      "Data columns (total 3 columns):\n",
      "Distritos          105 non-null object\n",
      "Dirección          105 non-null object\n",
      "Superficie (m2)    105 non-null object\n",
      "dtypes: object(3)\n",
      "memory usage: 2.6+ KB\n"
     ]
    }
   ],
   "source": [
    "parks_districts.info()"
   ]
  },
  {
   "cell_type": "code",
   "execution_count": 79,
   "metadata": {},
   "outputs": [],
   "source": [
    "# parks_districts['Superficie (m2)'].unique()"
   ]
  },
  {
   "cell_type": "markdown",
   "metadata": {},
   "source": [
    "Drop all lines with no specification about the park area."
   ]
  },
  {
   "cell_type": "code",
   "execution_count": 80,
   "metadata": {},
   "outputs": [],
   "source": [
    "parks_districts['Superficie (m2)']=parks_districts['Superficie (m2)'].str.replace('-','–')"
   ]
  },
  {
   "cell_type": "code",
   "execution_count": 81,
   "metadata": {},
   "outputs": [],
   "source": [
    "# parks_districts['Superficie (m2)']"
   ]
  },
  {
   "cell_type": "code",
   "execution_count": 82,
   "metadata": {},
   "outputs": [],
   "source": [
    "df_parks=parks_districts[parks_districts['Superficie (m2)'] != '–']"
   ]
  },
  {
   "cell_type": "code",
   "execution_count": 83,
   "metadata": {},
   "outputs": [
    {
     "name": "stderr",
     "output_type": "stream",
     "text": [
      "D:\\ANACONDA\\lib\\site-packages\\ipykernel_launcher.py:2: SettingWithCopyWarning: \n",
      "A value is trying to be set on a copy of a slice from a DataFrame.\n",
      "Try using .loc[row_indexer,col_indexer] = value instead\n",
      "\n",
      "See the caveats in the documentation: http://pandas.pydata.org/pandas-docs/stable/user_guide/indexing.html#returning-a-view-versus-a-copy\n",
      "  \n"
     ]
    }
   ],
   "source": [
    "# Converting string in integer\n",
    "df_parks['Parques(m2)']= df_parks['Superficie (m2)'].astype(int)"
   ]
  },
  {
   "cell_type": "code",
   "execution_count": 84,
   "metadata": {},
   "outputs": [
    {
     "name": "stdout",
     "output_type": "stream",
     "text": [
      "<class 'pandas.core.frame.DataFrame'>\n",
      "Int64Index: 94 entries, 0 to 103\n",
      "Data columns (total 4 columns):\n",
      "Distritos          94 non-null object\n",
      "Dirección          94 non-null object\n",
      "Superficie (m2)    94 non-null object\n",
      "Parques(m2)        94 non-null int32\n",
      "dtypes: int32(1), object(3)\n",
      "memory usage: 3.3+ KB\n"
     ]
    }
   ],
   "source": [
    "df_parks.info()"
   ]
  },
  {
   "cell_type": "code",
   "execution_count": 85,
   "metadata": {},
   "outputs": [],
   "source": [
    "df_parks=df_parks.groupby('Distritos')['Parques(m2)'].sum()"
   ]
  },
  {
   "cell_type": "code",
   "execution_count": 86,
   "metadata": {},
   "outputs": [
    {
     "data": {
      "text/plain": [
       "Distritos\n",
       "Ciutat Vella           965 \n",
       "Gràcia                 2406\n",
       "Horta-Guinardó         2605\n",
       "Les Corts              2580\n",
       "Nou Barris             2791\n",
       "Sant Andreu            1740\n",
       "Sant Martí             6265\n",
       "Sants-Montjuïc         3049\n",
       "Sarrià-Sant Gervasi    4028\n",
       "l’Eixample             3477\n",
       "Name: Parques(m2), dtype: int32"
      ]
     },
     "execution_count": 86,
     "metadata": {},
     "output_type": "execute_result"
    }
   ],
   "source": [
    "df_parks"
   ]
  },
  {
   "cell_type": "markdown",
   "metadata": {},
   "source": [
    "### 2.2.2 Total area of districts of Barcelona"
   ]
  },
  {
   "cell_type": "markdown",
   "metadata": {},
   "source": [
    "Calculating the percentage of parks area for each district.\n",
    "\n",
    "First, we need to know the total area of every district from https://en.wikipedia.org/wiki/Districts_of_Barcelona"
   ]
  },
  {
   "cell_type": "code",
   "execution_count": 87,
   "metadata": {},
   "outputs": [
    {
     "data": {
      "text/plain": [
       "array(['Ciutat Vella', 'l’Eixample', 'Gràcia', 'Horta-Guinardó',\n",
       "       'Les Corts', 'Nou Barris', 'Sant Andreu', 'Sant Martí',\n",
       "       'Sants-Montjuïc', 'Sarrià-Sant Gervasi'], dtype=object)"
      ]
     },
     "execution_count": 87,
     "metadata": {},
     "output_type": "execute_result"
    }
   ],
   "source": [
    "parks_districts['Distritos'].unique()"
   ]
  },
  {
   "cell_type": "code",
   "execution_count": 88,
   "metadata": {},
   "outputs": [],
   "source": [
    "area_districts_sqkm = [4.49,7.46, 4.19, 11.96,6.08, 8.04, 6.56, 10.80,21.35, 20.09]\n",
    "area_districts_sqm = [x*10**6 for x in area_districts_sqkm]\n",
    "\n",
    "data ={'Distritos': districts, 'Area distrito': area_districts_sqm}\n",
    "\n",
    "districts_area = pd.DataFrame(data)"
   ]
  },
  {
   "cell_type": "code",
   "execution_count": 89,
   "metadata": {},
   "outputs": [
    {
     "data": {
      "text/html": [
       "<div>\n",
       "<style scoped>\n",
       "    .dataframe tbody tr th:only-of-type {\n",
       "        vertical-align: middle;\n",
       "    }\n",
       "\n",
       "    .dataframe tbody tr th {\n",
       "        vertical-align: top;\n",
       "    }\n",
       "\n",
       "    .dataframe thead th {\n",
       "        text-align: right;\n",
       "    }\n",
       "</style>\n",
       "<table border=\"1\" class=\"dataframe\">\n",
       "  <thead>\n",
       "    <tr style=\"text-align: right;\">\n",
       "      <th></th>\n",
       "      <th>Distritos</th>\n",
       "      <th>Area distrito</th>\n",
       "    </tr>\n",
       "  </thead>\n",
       "  <tbody>\n",
       "    <tr>\n",
       "      <td>0</td>\n",
       "      <td>Ciutat Vella</td>\n",
       "      <td>4490000.0</td>\n",
       "    </tr>\n",
       "    <tr>\n",
       "      <td>1</td>\n",
       "      <td>l’Eixample</td>\n",
       "      <td>7460000.0</td>\n",
       "    </tr>\n",
       "    <tr>\n",
       "      <td>2</td>\n",
       "      <td>Gràcia</td>\n",
       "      <td>4190000.0</td>\n",
       "    </tr>\n",
       "    <tr>\n",
       "      <td>3</td>\n",
       "      <td>Horta-Guinardó</td>\n",
       "      <td>11960000.0</td>\n",
       "    </tr>\n",
       "    <tr>\n",
       "      <td>4</td>\n",
       "      <td>Les Corts</td>\n",
       "      <td>6080000.0</td>\n",
       "    </tr>\n",
       "    <tr>\n",
       "      <td>5</td>\n",
       "      <td>Nou Barris</td>\n",
       "      <td>8040000.0</td>\n",
       "    </tr>\n",
       "    <tr>\n",
       "      <td>6</td>\n",
       "      <td>Sant Andreu</td>\n",
       "      <td>6560000.0</td>\n",
       "    </tr>\n",
       "    <tr>\n",
       "      <td>7</td>\n",
       "      <td>Sant Martí</td>\n",
       "      <td>10800000.0</td>\n",
       "    </tr>\n",
       "    <tr>\n",
       "      <td>8</td>\n",
       "      <td>Sants-Montjuïc</td>\n",
       "      <td>21350000.0</td>\n",
       "    </tr>\n",
       "    <tr>\n",
       "      <td>9</td>\n",
       "      <td>Sarrià-Sant Gervasi</td>\n",
       "      <td>20090000.0</td>\n",
       "    </tr>\n",
       "  </tbody>\n",
       "</table>\n",
       "</div>"
      ],
      "text/plain": [
       "             Distritos  Area distrito\n",
       "0  Ciutat Vella         4490000.0    \n",
       "1  l’Eixample           7460000.0    \n",
       "2  Gràcia               4190000.0    \n",
       "3  Horta-Guinardó       11960000.0   \n",
       "4  Les Corts            6080000.0    \n",
       "5  Nou Barris           8040000.0    \n",
       "6  Sant Andreu          6560000.0    \n",
       "7  Sant Martí           10800000.0   \n",
       "8  Sants-Montjuïc       21350000.0   \n",
       "9  Sarrià-Sant Gervasi  20090000.0   "
      ]
     },
     "execution_count": 89,
     "metadata": {},
     "output_type": "execute_result"
    }
   ],
   "source": [
    "districts_area "
   ]
  },
  {
   "cell_type": "markdown",
   "metadata": {},
   "source": [
    "## 2.3 Merge dataframes"
   ]
  },
  {
   "cell_type": "code",
   "execution_count": 90,
   "metadata": {},
   "outputs": [
    {
     "data": {
      "text/html": [
       "<div>\n",
       "<style scoped>\n",
       "    .dataframe tbody tr th:only-of-type {\n",
       "        vertical-align: middle;\n",
       "    }\n",
       "\n",
       "    .dataframe tbody tr th {\n",
       "        vertical-align: top;\n",
       "    }\n",
       "\n",
       "    .dataframe thead th {\n",
       "        text-align: right;\n",
       "    }\n",
       "</style>\n",
       "<table border=\"1\" class=\"dataframe\">\n",
       "  <thead>\n",
       "    <tr style=\"text-align: right;\">\n",
       "      <th></th>\n",
       "      <th>Distritos</th>\n",
       "      <th>Parques(m2)</th>\n",
       "      <th>Area distrito</th>\n",
       "    </tr>\n",
       "  </thead>\n",
       "  <tbody>\n",
       "    <tr>\n",
       "      <td>0</td>\n",
       "      <td>Ciutat Vella</td>\n",
       "      <td>965</td>\n",
       "      <td>4490000.0</td>\n",
       "    </tr>\n",
       "    <tr>\n",
       "      <td>1</td>\n",
       "      <td>Gràcia</td>\n",
       "      <td>2406</td>\n",
       "      <td>4190000.0</td>\n",
       "    </tr>\n",
       "    <tr>\n",
       "      <td>2</td>\n",
       "      <td>Horta-Guinardó</td>\n",
       "      <td>2605</td>\n",
       "      <td>11960000.0</td>\n",
       "    </tr>\n",
       "    <tr>\n",
       "      <td>3</td>\n",
       "      <td>Les Corts</td>\n",
       "      <td>2580</td>\n",
       "      <td>6080000.0</td>\n",
       "    </tr>\n",
       "    <tr>\n",
       "      <td>4</td>\n",
       "      <td>Nou Barris</td>\n",
       "      <td>2791</td>\n",
       "      <td>8040000.0</td>\n",
       "    </tr>\n",
       "    <tr>\n",
       "      <td>5</td>\n",
       "      <td>Sant Andreu</td>\n",
       "      <td>1740</td>\n",
       "      <td>6560000.0</td>\n",
       "    </tr>\n",
       "    <tr>\n",
       "      <td>6</td>\n",
       "      <td>Sant Martí</td>\n",
       "      <td>6265</td>\n",
       "      <td>10800000.0</td>\n",
       "    </tr>\n",
       "    <tr>\n",
       "      <td>7</td>\n",
       "      <td>Sants-Montjuïc</td>\n",
       "      <td>3049</td>\n",
       "      <td>21350000.0</td>\n",
       "    </tr>\n",
       "    <tr>\n",
       "      <td>8</td>\n",
       "      <td>Sarrià-Sant Gervasi</td>\n",
       "      <td>4028</td>\n",
       "      <td>20090000.0</td>\n",
       "    </tr>\n",
       "    <tr>\n",
       "      <td>9</td>\n",
       "      <td>l’Eixample</td>\n",
       "      <td>3477</td>\n",
       "      <td>7460000.0</td>\n",
       "    </tr>\n",
       "  </tbody>\n",
       "</table>\n",
       "</div>"
      ],
      "text/plain": [
       "             Distritos  Parques(m2)  Area distrito\n",
       "0  Ciutat Vella         965          4490000.0    \n",
       "1  Gràcia               2406         4190000.0    \n",
       "2  Horta-Guinardó       2605         11960000.0   \n",
       "3  Les Corts            2580         6080000.0    \n",
       "4  Nou Barris           2791         8040000.0    \n",
       "5  Sant Andreu          1740         6560000.0    \n",
       "6  Sant Martí           6265         10800000.0   \n",
       "7  Sants-Montjuïc       3049         21350000.0   \n",
       "8  Sarrià-Sant Gervasi  4028         20090000.0   \n",
       "9  l’Eixample           3477         7460000.0    "
      ]
     },
     "execution_count": 90,
     "metadata": {},
     "output_type": "execute_result"
    }
   ],
   "source": [
    "green_areas=pd.merge(df_parks, districts_area , on='Distritos')\n",
    "green_areas"
   ]
  },
  {
   "cell_type": "code",
   "execution_count": 91,
   "metadata": {},
   "outputs": [],
   "source": [
    "green_areas['% Parques'] = (green_areas['Parques(m2)'] / green_areas['Area distrito'])*100"
   ]
  },
  {
   "cell_type": "code",
   "execution_count": 92,
   "metadata": {},
   "outputs": [],
   "source": [
    "# green_areas"
   ]
  },
  {
   "cell_type": "code",
   "execution_count": 93,
   "metadata": {},
   "outputs": [
    {
     "data": {
      "text/plain": [
       "0    0.021492\n",
       "1    0.057422\n",
       "2    0.021781\n",
       "3    0.042434\n",
       "4    0.034714\n",
       "5    0.026524\n",
       "6    0.058009\n",
       "7    0.014281\n",
       "8    0.020050\n",
       "9    0.046609\n",
       "Name: % Parques, dtype: float64"
      ]
     },
     "execution_count": 93,
     "metadata": {},
     "output_type": "execute_result"
    }
   ],
   "source": [
    "green_areas['% Parques']"
   ]
  },
  {
   "cell_type": "code",
   "execution_count": 94,
   "metadata": {},
   "outputs": [
    {
     "name": "stdout",
     "output_type": "stream",
     "text": [
      "Min percentage parks/district: 0.01 %\n",
      "Max percentage parks/district: 0.06 %\n"
     ]
    }
   ],
   "source": [
    "print(f'Min percentage parks/district: {round(min(green_areas[\"% Parques\"]),2)} %')\n",
    "print(f'Max percentage parks/district: {round(max(green_areas[\"% Parques\"]),2)} %')"
   ]
  },
  {
   "cell_type": "markdown",
   "metadata": {},
   "source": [
    "### Categories green areas"
   ]
  },
  {
   "cell_type": "markdown",
   "metadata": {},
   "source": [
    "- **Zone A**: 0.01-0.02 % green areas\n",
    "- **Zone B**: 0.02-0.03 % green areas\n",
    "- **Zone C**: 0.03-0.04 % green areas\n",
    "- **Zone D**: 0.04-0.05 % green areas\n",
    "- **Zone E**: 0.05-0.06 % green areas"
   ]
  },
  {
   "cell_type": "code",
   "execution_count": 95,
   "metadata": {},
   "outputs": [],
   "source": [
    "cat_green_areas = ['A','B','C','D','E']"
   ]
  },
  {
   "cell_type": "code",
   "execution_count": 96,
   "metadata": {},
   "outputs": [],
   "source": [
    "green_areas['Green Areas'] = green_areas['% Parques'].apply(lambda x: 'A' if (x >= 0.01) & (x < 0.02) else\n",
    "                                            'B' if (x >= 0.02) & (x < 0.03) else\n",
    "                                            'C' if (x >= 0.03) & (x < 0.04) else\n",
    "                                            'D' if (x >= 0.04) & (x < 0.05) else\n",
    "                                            'E')"
   ]
  },
  {
   "cell_type": "code",
   "execution_count": 97,
   "metadata": {},
   "outputs": [
    {
     "data": {
      "text/plain": [
       "0    B\n",
       "1    E\n",
       "2    B\n",
       "3    D\n",
       "4    C\n",
       "5    B\n",
       "6    E\n",
       "7    A\n",
       "8    B\n",
       "9    D\n",
       "Name: Green Areas, dtype: object"
      ]
     },
     "execution_count": 97,
     "metadata": {},
     "output_type": "execute_result"
    }
   ],
   "source": [
    "green_areas['Green Areas'] "
   ]
  },
  {
   "cell_type": "code",
   "execution_count": 98,
   "metadata": {},
   "outputs": [
    {
     "data": {
      "text/html": [
       "<div>\n",
       "<style scoped>\n",
       "    .dataframe tbody tr th:only-of-type {\n",
       "        vertical-align: middle;\n",
       "    }\n",
       "\n",
       "    .dataframe tbody tr th {\n",
       "        vertical-align: top;\n",
       "    }\n",
       "\n",
       "    .dataframe thead th {\n",
       "        text-align: right;\n",
       "    }\n",
       "</style>\n",
       "<table border=\"1\" class=\"dataframe\">\n",
       "  <thead>\n",
       "    <tr style=\"text-align: right;\">\n",
       "      <th></th>\n",
       "      <th>Distritos</th>\n",
       "      <th>Parques(m2)</th>\n",
       "      <th>Area distrito</th>\n",
       "      <th>% Parques</th>\n",
       "      <th>Green Areas</th>\n",
       "    </tr>\n",
       "  </thead>\n",
       "  <tbody>\n",
       "    <tr>\n",
       "      <td>0</td>\n",
       "      <td>Ciutat Vella</td>\n",
       "      <td>965</td>\n",
       "      <td>4490000.0</td>\n",
       "      <td>0.021492</td>\n",
       "      <td>B</td>\n",
       "    </tr>\n",
       "    <tr>\n",
       "      <td>1</td>\n",
       "      <td>Gràcia</td>\n",
       "      <td>2406</td>\n",
       "      <td>4190000.0</td>\n",
       "      <td>0.057422</td>\n",
       "      <td>E</td>\n",
       "    </tr>\n",
       "    <tr>\n",
       "      <td>2</td>\n",
       "      <td>Horta-Guinardó</td>\n",
       "      <td>2605</td>\n",
       "      <td>11960000.0</td>\n",
       "      <td>0.021781</td>\n",
       "      <td>B</td>\n",
       "    </tr>\n",
       "    <tr>\n",
       "      <td>3</td>\n",
       "      <td>Les Corts</td>\n",
       "      <td>2580</td>\n",
       "      <td>6080000.0</td>\n",
       "      <td>0.042434</td>\n",
       "      <td>D</td>\n",
       "    </tr>\n",
       "    <tr>\n",
       "      <td>4</td>\n",
       "      <td>Nou Barris</td>\n",
       "      <td>2791</td>\n",
       "      <td>8040000.0</td>\n",
       "      <td>0.034714</td>\n",
       "      <td>C</td>\n",
       "    </tr>\n",
       "    <tr>\n",
       "      <td>5</td>\n",
       "      <td>Sant Andreu</td>\n",
       "      <td>1740</td>\n",
       "      <td>6560000.0</td>\n",
       "      <td>0.026524</td>\n",
       "      <td>B</td>\n",
       "    </tr>\n",
       "    <tr>\n",
       "      <td>6</td>\n",
       "      <td>Sant Martí</td>\n",
       "      <td>6265</td>\n",
       "      <td>10800000.0</td>\n",
       "      <td>0.058009</td>\n",
       "      <td>E</td>\n",
       "    </tr>\n",
       "    <tr>\n",
       "      <td>7</td>\n",
       "      <td>Sants-Montjuïc</td>\n",
       "      <td>3049</td>\n",
       "      <td>21350000.0</td>\n",
       "      <td>0.014281</td>\n",
       "      <td>A</td>\n",
       "    </tr>\n",
       "    <tr>\n",
       "      <td>8</td>\n",
       "      <td>Sarrià-Sant Gervasi</td>\n",
       "      <td>4028</td>\n",
       "      <td>20090000.0</td>\n",
       "      <td>0.020050</td>\n",
       "      <td>B</td>\n",
       "    </tr>\n",
       "    <tr>\n",
       "      <td>9</td>\n",
       "      <td>l’Eixample</td>\n",
       "      <td>3477</td>\n",
       "      <td>7460000.0</td>\n",
       "      <td>0.046609</td>\n",
       "      <td>D</td>\n",
       "    </tr>\n",
       "  </tbody>\n",
       "</table>\n",
       "</div>"
      ],
      "text/plain": [
       "             Distritos  Parques(m2)  Area distrito  % Parques Green Areas\n",
       "0  Ciutat Vella         965          4490000.0      0.021492   B         \n",
       "1  Gràcia               2406         4190000.0      0.057422   E         \n",
       "2  Horta-Guinardó       2605         11960000.0     0.021781   B         \n",
       "3  Les Corts            2580         6080000.0      0.042434   D         \n",
       "4  Nou Barris           2791         8040000.0      0.034714   C         \n",
       "5  Sant Andreu          1740         6560000.0      0.026524   B         \n",
       "6  Sant Martí           6265         10800000.0     0.058009   E         \n",
       "7  Sants-Montjuïc       3049         21350000.0     0.014281   A         \n",
       "8  Sarrià-Sant Gervasi  4028         20090000.0     0.020050   B         \n",
       "9  l’Eixample           3477         7460000.0      0.046609   D         "
      ]
     },
     "execution_count": 98,
     "metadata": {},
     "output_type": "execute_result"
    }
   ],
   "source": [
    "green_areas"
   ]
  },
  {
   "cell_type": "markdown",
   "metadata": {},
   "source": [
    "## 2.4 Chi-Square test "
   ]
  },
  {
   "cell_type": "markdown",
   "metadata": {},
   "source": [
    "**Chi-Square test** is a statistical significance test used in the analysis of contingency tables. It is employed when sample sizes are small."
   ]
  },
  {
   "cell_type": "markdown",
   "metadata": {},
   "source": [
    "### Sample size"
   ]
  },
  {
   "cell_type": "code",
   "execution_count": 99,
   "metadata": {},
   "outputs": [
    {
     "name": "stdout",
     "output_type": "stream",
     "text": [
      "The sample size of this test is 105 elements\n"
     ]
    }
   ],
   "source": [
    "print(f'The sample size of this test is {parks_districts.shape[0]} elements')"
   ]
  },
  {
   "cell_type": "markdown",
   "metadata": {},
   "source": [
    "Creating a **contingency table** comparing the districts and the category of green areas."
   ]
  },
  {
   "cell_type": "code",
   "execution_count": 100,
   "metadata": {
    "scrolled": true
   },
   "outputs": [
    {
     "data": {
      "text/html": [
       "<div>\n",
       "<style scoped>\n",
       "    .dataframe tbody tr th:only-of-type {\n",
       "        vertical-align: middle;\n",
       "    }\n",
       "\n",
       "    .dataframe tbody tr th {\n",
       "        vertical-align: top;\n",
       "    }\n",
       "\n",
       "    .dataframe thead th {\n",
       "        text-align: right;\n",
       "    }\n",
       "</style>\n",
       "<table border=\"1\" class=\"dataframe\">\n",
       "  <thead>\n",
       "    <tr style=\"text-align: right;\">\n",
       "      <th>Areas Verdes</th>\n",
       "      <th>A</th>\n",
       "      <th>B</th>\n",
       "      <th>C</th>\n",
       "      <th>D</th>\n",
       "      <th>E</th>\n",
       "    </tr>\n",
       "    <tr>\n",
       "      <th>Distritos</th>\n",
       "      <th></th>\n",
       "      <th></th>\n",
       "      <th></th>\n",
       "      <th></th>\n",
       "      <th></th>\n",
       "    </tr>\n",
       "  </thead>\n",
       "  <tbody>\n",
       "    <tr>\n",
       "      <td>Ciutat Vella</td>\n",
       "      <td>0</td>\n",
       "      <td>1</td>\n",
       "      <td>0</td>\n",
       "      <td>0</td>\n",
       "      <td>0</td>\n",
       "    </tr>\n",
       "    <tr>\n",
       "      <td>Gràcia</td>\n",
       "      <td>0</td>\n",
       "      <td>0</td>\n",
       "      <td>0</td>\n",
       "      <td>0</td>\n",
       "      <td>1</td>\n",
       "    </tr>\n",
       "    <tr>\n",
       "      <td>Horta-Guinardó</td>\n",
       "      <td>0</td>\n",
       "      <td>1</td>\n",
       "      <td>0</td>\n",
       "      <td>0</td>\n",
       "      <td>0</td>\n",
       "    </tr>\n",
       "    <tr>\n",
       "      <td>Les Corts</td>\n",
       "      <td>0</td>\n",
       "      <td>0</td>\n",
       "      <td>0</td>\n",
       "      <td>1</td>\n",
       "      <td>0</td>\n",
       "    </tr>\n",
       "    <tr>\n",
       "      <td>Nou Barris</td>\n",
       "      <td>0</td>\n",
       "      <td>0</td>\n",
       "      <td>1</td>\n",
       "      <td>0</td>\n",
       "      <td>0</td>\n",
       "    </tr>\n",
       "    <tr>\n",
       "      <td>Sant Andreu</td>\n",
       "      <td>0</td>\n",
       "      <td>1</td>\n",
       "      <td>0</td>\n",
       "      <td>0</td>\n",
       "      <td>0</td>\n",
       "    </tr>\n",
       "    <tr>\n",
       "      <td>Sant Martí</td>\n",
       "      <td>0</td>\n",
       "      <td>0</td>\n",
       "      <td>0</td>\n",
       "      <td>0</td>\n",
       "      <td>1</td>\n",
       "    </tr>\n",
       "    <tr>\n",
       "      <td>Sants-Montjuïc</td>\n",
       "      <td>1</td>\n",
       "      <td>0</td>\n",
       "      <td>0</td>\n",
       "      <td>0</td>\n",
       "      <td>0</td>\n",
       "    </tr>\n",
       "    <tr>\n",
       "      <td>Sarrià-Sant Gervasi</td>\n",
       "      <td>0</td>\n",
       "      <td>1</td>\n",
       "      <td>0</td>\n",
       "      <td>0</td>\n",
       "      <td>0</td>\n",
       "    </tr>\n",
       "    <tr>\n",
       "      <td>l’Eixample</td>\n",
       "      <td>0</td>\n",
       "      <td>0</td>\n",
       "      <td>0</td>\n",
       "      <td>1</td>\n",
       "      <td>0</td>\n",
       "    </tr>\n",
       "  </tbody>\n",
       "</table>\n",
       "</div>"
      ],
      "text/plain": [
       "Areas Verdes         A  B  C  D  E\n",
       "Distritos                         \n",
       "Ciutat Vella         0  1  0  0  0\n",
       "Gràcia               0  0  0  0  1\n",
       "Horta-Guinardó       0  1  0  0  0\n",
       "Les Corts            0  0  0  1  0\n",
       "Nou Barris           0  0  1  0  0\n",
       "Sant Andreu          0  1  0  0  0\n",
       "Sant Martí           0  0  0  0  1\n",
       "Sants-Montjuïc       1  0  0  0  0\n",
       "Sarrià-Sant Gervasi  0  1  0  0  0\n",
       "l’Eixample           0  0  0  1  0"
      ]
     },
     "execution_count": 100,
     "metadata": {},
     "output_type": "execute_result"
    }
   ],
   "source": [
    "contingency_table=pd.crosstab(green_areas['Distritos'],green_areas['Green Areas'], rownames=['Distritos'], colnames=['Areas Verdes'])\n",
    "contingency_table"
   ]
  },
  {
   "cell_type": "code",
   "execution_count": 101,
   "metadata": {},
   "outputs": [
    {
     "data": {
      "image/png": "[encoded data removed]",
      "text/plain": [
       "<Figure size 432x288 with 1 Axes>"
      ]
     },
     "metadata": {
      "needs_background": "light"
     },
     "output_type": "display_data"
    }
   ],
   "source": [
    "contingency_table.T.plot.bar(stacked=True)\n",
    "plt.xticks(rotation=0)\n",
    "plt.yticks()\n",
    "plt.title('Green Areas x Districts Plot', loc='center', fontsize=10)\n",
    "plt.legend(title='Districts', bbox_to_anchor=(1.05, 1), loc='upper left');"
   ]
  },
  {
   "cell_type": "markdown",
   "metadata": {},
   "source": [
    "Perform a chi-squared test using the chi2_contingency function"
   ]
  },
  {
   "cell_type": "code",
   "execution_count": 102,
   "metadata": {},
   "outputs": [
    {
     "data": {
      "text/plain": [
       "0.297"
      ]
     },
     "execution_count": 102,
     "metadata": {},
     "output_type": "execute_result"
    }
   ],
   "source": [
    "chi2, p, dof, ex = stats.chi2_contingency(contingency_table)\n",
    "round(p,3)"
   ]
  },
  {
   "cell_type": "code",
   "execution_count": 103,
   "metadata": {},
   "outputs": [
    {
     "data": {
      "text/plain": [
       "'The value 0.297 is bigger than our alpha 0.05. Fail to reject H0'"
      ]
     },
     "execution_count": 103,
     "metadata": {},
     "output_type": "execute_result"
    }
   ],
   "source": [
    "hyp_checker(round(p,3))"
   ]
  },
  {
   "cell_type": "markdown",
   "metadata": {},
   "source": [
    "The percentage of green areas for each district of Barcelona is NOT the same but we can't understand if the differences are significant or not."
   ]
  },
  {
   "cell_type": "markdown",
   "metadata": {},
   "source": [
    "This is not the right test to use. FAILED!\n",
    "The chi-square test determines whether there is an association between categorical variables.\n",
    "In this specific case, we gruop the variables by district so the comparison is not possible."
   ]
  },
  {
   "cell_type": "markdown",
   "metadata": {},
   "source": [
    "## Conclusion\n"
   ]
  },
  {
   "cell_type": "markdown",
   "metadata": {},
   "source": [
    "It was difficult for me to find relationships to compare the datasets available and the final project is not what I wanted to do.\n",
    "\n",
    "Anyway, I think the process of data manipulation and EDA could be a good point to start the project with **another focus**: find which is the best dog for a person with particular features (age, place where she/he lives, sqm of the house...)\n",
    "\n",
    "**To be continued...**"
   ]
  },
  {
   "cell_type": "code",
   "execution_count": null,
   "metadata": {},
   "outputs": [],
   "source": []
  }
 ],
 "metadata": {
  "kernelspec": {
   "display_name": "Python 3",
   "language": "python",
   "name": "python3"
  },
  "language_info": {
   "codemirror_mode": {
    "name": "ipython",
    "version": 3
   },
   "file_extension": ".py",
   "mimetype": "text/x-python",
   "name": "python",
   "nbconvert_exporter": "python",
   "pygments_lexer": "ipython3",
   "version": "3.7.4"
  }
 },
 "nbformat": 4,
 "nbformat_minor": 4
}
